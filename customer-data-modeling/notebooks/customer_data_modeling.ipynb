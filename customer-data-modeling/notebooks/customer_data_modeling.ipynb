{
 "cells": [
  {
   "cell_type": "markdown",
   "id": "d0ff5a52",
   "metadata": {},
   "source": [
    "# E-commerce Customer Profiling and Data Consolidation Project"
   ]
  },
  {
   "cell_type": "markdown",
   "id": "427e2b4e",
   "metadata": {},
   "source": [
    "# Problem Statement\n",
    "\n",
    "An e-commerce startup, after a successful first month, is seeking to better understand its customer base and purchasing patterns. They aim to answer fundamental questions like \"Who are our customers?\" \"What do they buy?\" and \"What drives their purchasing behavior?\" However, they face challenges in accurately identifying and counting customers due to disparate data sources, including:\n",
    "\n",
    "1. A customer database recording online account sign-ups,\n",
    "2. A CRM system tracking phone and non-online customer interactions, and\n",
    "3. Raw transaction data that includes guest purchases with no formal customer record.\n",
    "\n",
    "These sources of data may have overlapping entries or duplicate records, often due to customers engaging with multiple systems (e.g., making a purchase as a guest, then creating an account later). Furthermore, customer information may vary across entries due to potential discrepancies like typos or alternative identifiers. The startup seeks the assistance of an analyst to address these complexities and provide an accurate count and profile of their customers.\n"
   ]
  },
  {
   "cell_type": "markdown",
   "id": "1a7cde6d",
   "metadata": {},
   "source": [
    "## Project Goals\n",
    "\n",
    "1. **Data Consolidation:**  \n",
    "   Integrate customer information across all available sources to create a unified, comprehensive dataset representing the complete customer base.\n",
    "\n",
    "2. **Data Deduplication:**  \n",
    "   Identify and resolve duplicate records, maintaining data lineage to track original sources and identifiers for each customer where possible.\n",
    "\n",
    "3. **Customer Identification:**  \n",
    "   Develop a data model that uniquely identifies each customer, regardless of which data source(s) they appear in, and can be easily queried for counts and profiles.\n",
    "\n",
    "4. **Data Validation:**  \n",
    "   Ensure data integrity by confirming assumptions, identifying inconsistencies, and validating data completeness to maximize reliability.\n",
    "\n",
    "5. **Solution Documentation:**  \n",
    "   Create a flexible and traceable solution, with a well-defined schema that supports future analysis of customer demographics and purchasing behavior.\n",
    "\n",
    "This project will ultimately enable the startup to answer critical questions about their customer demographics and purchasing trends, creating a foundation for data-driven decision-making."
   ]
  },
  {
   "cell_type": "markdown",
   "id": "97105d02",
   "metadata": {},
   "source": [
    "To actually perform the data modeling, we should take the following course of action:\n",
    "\n",
    "1. First we explore all 3 datasets. We should see if the values in all the columns make sense.\n",
    "\n",
    "2. Then we can trim down our data before we merge our different datasets, so that we have unique customers\n",
    "\n",
    "3. Then we merge these trimmed datasets and remove duplicates carefully.\n",
    "\n",
    "4. When performing deduplication, we need to go one step beyond and identify more than just exact match duplicates. We can use Fuzzy Matching here.\n",
    "\n",
    "5. Finally, we clean and present our data model."
   ]
  },
  {
   "cell_type": "markdown",
   "id": "5f5471d4",
   "metadata": {},
   "source": [
    "## Exploring our Purchases Dataset"
   ]
  },
  {
   "cell_type": "code",
   "execution_count": 1,
   "id": "b19ca04c",
   "metadata": {},
   "outputs": [
    {
     "name": "stdout",
     "output_type": "stream",
     "text": [
      "(71519, 11)\n"
     ]
    }
   ],
   "source": [
    "import pandas as pd\n",
    "import numpy as np\n",
    "\n",
    "sales = pd.read_csv(\"../data/purchases.csv\")\n",
    "print(sales.shape)"
   ]
  },
  {
   "cell_type": "code",
   "execution_count": 2,
   "id": "be6ffee8",
   "metadata": {},
   "outputs": [
    {
     "data": {
      "text/html": [
       "<div>\n",
       "<style scoped>\n",
       "    .dataframe tbody tr th:only-of-type {\n",
       "        vertical-align: middle;\n",
       "    }\n",
       "\n",
       "    .dataframe tbody tr th {\n",
       "        vertical-align: top;\n",
       "    }\n",
       "\n",
       "    .dataframe thead th {\n",
       "        text-align: right;\n",
       "    }\n",
       "</style>\n",
       "<table border=\"1\" class=\"dataframe\">\n",
       "  <thead>\n",
       "    <tr style=\"text-align: right;\">\n",
       "      <th></th>\n",
       "      <th>event_time</th>\n",
       "      <th>product_id</th>\n",
       "      <th>category_id</th>\n",
       "      <th>category_code</th>\n",
       "      <th>brand</th>\n",
       "      <th>price</th>\n",
       "      <th>session_id</th>\n",
       "      <th>customer_id</th>\n",
       "      <th>guest_first_name</th>\n",
       "      <th>guest_surname</th>\n",
       "      <th>guest_postcode</th>\n",
       "    </tr>\n",
       "  </thead>\n",
       "  <tbody>\n",
       "    <tr>\n",
       "      <th>0</th>\n",
       "      <td>2022-10-01 02:26:08+00:00</td>\n",
       "      <td>32701106</td>\n",
       "      <td>2055156924466332447</td>\n",
       "      <td>NaN</td>\n",
       "      <td>shimano</td>\n",
       "      <td>95.21</td>\n",
       "      <td>64c68405-7002-4ce0-9604-a4c2e1f7384b</td>\n",
       "      <td>NaN</td>\n",
       "      <td>MICHAEL</td>\n",
       "      <td>MASON</td>\n",
       "      <td>RG497ZQ</td>\n",
       "    </tr>\n",
       "    <tr>\n",
       "      <th>1</th>\n",
       "      <td>2022-10-01 02:28:32+00:00</td>\n",
       "      <td>9400066</td>\n",
       "      <td>2053013566067311601</td>\n",
       "      <td>NaN</td>\n",
       "      <td>jaguar</td>\n",
       "      <td>164.20</td>\n",
       "      <td>3b7d6741-3c82-4c75-8015-6f54b52612e0</td>\n",
       "      <td>7466.0</td>\n",
       "      <td>NaN</td>\n",
       "      <td>NaN</td>\n",
       "      <td>NaN</td>\n",
       "    </tr>\n",
       "    <tr>\n",
       "      <th>2</th>\n",
       "      <td>2022-10-01 02:31:01+00:00</td>\n",
       "      <td>1004238</td>\n",
       "      <td>2053013555631882655</td>\n",
       "      <td>electronics.smartphone</td>\n",
       "      <td>apple</td>\n",
       "      <td>1206.40</td>\n",
       "      <td>38c6d3f7-6c32-4fed-bca6-ef98e1746386</td>\n",
       "      <td>NaN</td>\n",
       "      <td>COLE</td>\n",
       "      <td>WILKINSON</td>\n",
       "      <td>SW75TQ</td>\n",
       "    </tr>\n",
       "    <tr>\n",
       "      <th>3</th>\n",
       "      <td>2022-10-01 02:33:31+00:00</td>\n",
       "      <td>11300059</td>\n",
       "      <td>2053013555531219353</td>\n",
       "      <td>electronics.telephone</td>\n",
       "      <td>texet</td>\n",
       "      <td>17.48</td>\n",
       "      <td>3398c966-7846-4186-89be-323daad735b9</td>\n",
       "      <td>NaN</td>\n",
       "      <td>MOHAMMED</td>\n",
       "      <td>RICHARDS</td>\n",
       "      <td>RG150RE</td>\n",
       "    </tr>\n",
       "    <tr>\n",
       "      <th>4</th>\n",
       "      <td>2022-10-01 02:40:18+00:00</td>\n",
       "      <td>17300751</td>\n",
       "      <td>2053013553853497655</td>\n",
       "      <td>NaN</td>\n",
       "      <td>versace</td>\n",
       "      <td>77.22</td>\n",
       "      <td>11e3a573-01b9-4794-b513-e7d8a4fcac83</td>\n",
       "      <td>31266.0</td>\n",
       "      <td>NaN</td>\n",
       "      <td>NaN</td>\n",
       "      <td>NaN</td>\n",
       "    </tr>\n",
       "  </tbody>\n",
       "</table>\n",
       "</div>"
      ],
      "text/plain": [
       "                  event_time  product_id          category_id  \\\n",
       "0  2022-10-01 02:26:08+00:00    32701106  2055156924466332447   \n",
       "1  2022-10-01 02:28:32+00:00     9400066  2053013566067311601   \n",
       "2  2022-10-01 02:31:01+00:00     1004238  2053013555631882655   \n",
       "3  2022-10-01 02:33:31+00:00    11300059  2053013555531219353   \n",
       "4  2022-10-01 02:40:18+00:00    17300751  2053013553853497655   \n",
       "\n",
       "            category_code    brand    price  \\\n",
       "0                     NaN  shimano    95.21   \n",
       "1                     NaN   jaguar   164.20   \n",
       "2  electronics.smartphone    apple  1206.40   \n",
       "3   electronics.telephone    texet    17.48   \n",
       "4                     NaN  versace    77.22   \n",
       "\n",
       "                             session_id  customer_id guest_first_name  \\\n",
       "0  64c68405-7002-4ce0-9604-a4c2e1f7384b          NaN          MICHAEL   \n",
       "1  3b7d6741-3c82-4c75-8015-6f54b52612e0       7466.0              NaN   \n",
       "2  38c6d3f7-6c32-4fed-bca6-ef98e1746386          NaN             COLE   \n",
       "3  3398c966-7846-4186-89be-323daad735b9          NaN         MOHAMMED   \n",
       "4  11e3a573-01b9-4794-b513-e7d8a4fcac83      31266.0              NaN   \n",
       "\n",
       "  guest_surname guest_postcode  \n",
       "0         MASON        RG497ZQ  \n",
       "1           NaN            NaN  \n",
       "2     WILKINSON         SW75TQ  \n",
       "3      RICHARDS        RG150RE  \n",
       "4           NaN            NaN  "
      ]
     },
     "execution_count": 2,
     "metadata": {},
     "output_type": "execute_result"
    }
   ],
   "source": [
    "sales.head()\n"
   ]
  },
  {
   "cell_type": "code",
   "execution_count": 3,
   "id": "cc134702",
   "metadata": {},
   "outputs": [
    {
     "data": {
      "text/plain": [
       "event_time              0\n",
       "product_id              0\n",
       "category_id             0\n",
       "category_code       16739\n",
       "brand                5707\n",
       "price                   0\n",
       "session_id              0\n",
       "customer_id         18448\n",
       "guest_first_name    53071\n",
       "guest_surname       53071\n",
       "guest_postcode      53071\n",
       "dtype: int64"
      ]
     },
     "execution_count": 3,
     "metadata": {},
     "output_type": "execute_result"
    }
   ],
   "source": [
    "sales.isnull().sum()"
   ]
  },
  {
   "cell_type": "markdown",
   "id": "7dce6960",
   "metadata": {},
   "source": [
    "Looks like the 18448 missing customer IDs (which are guest checkouts) and the 53071 missing guest values (which are registered customers) make up all of our data. We should verify there's no overlap, e.g. a row with both customer ID and guest details missing.\n",
    "\n",
    "Let's create a column to track guest checkouts:"
   ]
  },
  {
   "cell_type": "code",
   "execution_count": 4,
   "id": "c00bc0b8",
   "metadata": {},
   "outputs": [],
   "source": [
    "sales[\"is_guest\"] = sales[\"customer_id\"].isnull()"
   ]
  },
  {
   "cell_type": "markdown",
   "id": "60775e5a",
   "metadata": {},
   "source": [
    "Let's check cases where a guest checkout also had a customer id filled"
   ]
  },
  {
   "cell_type": "code",
   "execution_count": 5,
   "id": "27b90a5a",
   "metadata": {},
   "outputs": [
    {
     "data": {
      "text/html": [
       "<div>\n",
       "<style scoped>\n",
       "    .dataframe tbody tr th:only-of-type {\n",
       "        vertical-align: middle;\n",
       "    }\n",
       "\n",
       "    .dataframe tbody tr th {\n",
       "        vertical-align: top;\n",
       "    }\n",
       "\n",
       "    .dataframe thead th {\n",
       "        text-align: right;\n",
       "    }\n",
       "</style>\n",
       "<table border=\"1\" class=\"dataframe\">\n",
       "  <thead>\n",
       "    <tr style=\"text-align: right;\">\n",
       "      <th></th>\n",
       "      <th>event_time</th>\n",
       "      <th>product_id</th>\n",
       "      <th>category_id</th>\n",
       "      <th>category_code</th>\n",
       "      <th>brand</th>\n",
       "      <th>price</th>\n",
       "      <th>session_id</th>\n",
       "      <th>customer_id</th>\n",
       "      <th>guest_first_name</th>\n",
       "      <th>guest_surname</th>\n",
       "      <th>guest_postcode</th>\n",
       "      <th>is_guest</th>\n",
       "    </tr>\n",
       "  </thead>\n",
       "  <tbody>\n",
       "  </tbody>\n",
       "</table>\n",
       "</div>"
      ],
      "text/plain": [
       "Empty DataFrame\n",
       "Columns: [event_time, product_id, category_id, category_code, brand, price, session_id, customer_id, guest_first_name, guest_surname, guest_postcode, is_guest]\n",
       "Index: []"
      ]
     },
     "execution_count": 5,
     "metadata": {},
     "output_type": "execute_result"
    }
   ],
   "source": [
    "sales[sales[\"is_guest\"] & sales[\"customer_id\"].notnull()]"
   ]
  },
  {
   "cell_type": "markdown",
   "id": "fa40b403",
   "metadata": {},
   "source": [
    "no such case. Let's also check cases where we neither have a guest checkout nor a customer id filled."
   ]
  },
  {
   "cell_type": "code",
   "execution_count": 6,
   "id": "65525ca9",
   "metadata": {},
   "outputs": [
    {
     "data": {
      "text/html": [
       "<div>\n",
       "<style scoped>\n",
       "    .dataframe tbody tr th:only-of-type {\n",
       "        vertical-align: middle;\n",
       "    }\n",
       "\n",
       "    .dataframe tbody tr th {\n",
       "        vertical-align: top;\n",
       "    }\n",
       "\n",
       "    .dataframe thead th {\n",
       "        text-align: right;\n",
       "    }\n",
       "</style>\n",
       "<table border=\"1\" class=\"dataframe\">\n",
       "  <thead>\n",
       "    <tr style=\"text-align: right;\">\n",
       "      <th></th>\n",
       "      <th>event_time</th>\n",
       "      <th>product_id</th>\n",
       "      <th>category_id</th>\n",
       "      <th>category_code</th>\n",
       "      <th>brand</th>\n",
       "      <th>price</th>\n",
       "      <th>session_id</th>\n",
       "      <th>customer_id</th>\n",
       "      <th>guest_first_name</th>\n",
       "      <th>guest_surname</th>\n",
       "      <th>guest_postcode</th>\n",
       "      <th>is_guest</th>\n",
       "    </tr>\n",
       "  </thead>\n",
       "  <tbody>\n",
       "  </tbody>\n",
       "</table>\n",
       "</div>"
      ],
      "text/plain": [
       "Empty DataFrame\n",
       "Columns: [event_time, product_id, category_id, category_code, brand, price, session_id, customer_id, guest_first_name, guest_surname, guest_postcode, is_guest]\n",
       "Index: []"
      ]
     },
     "execution_count": 6,
     "metadata": {},
     "output_type": "execute_result"
    }
   ],
   "source": [
    "sales[(sales[\"is_guest\"] == False) & sales[\"customer_id\"].isnull()]"
   ]
  },
  {
   "cell_type": "markdown",
   "id": "7bf71214",
   "metadata": {},
   "source": [
    "This tells us that either all rows are a guest checkout or a purchase made by a registered customer. Let's now check what percentage of records are guest checkouts."
   ]
  },
  {
   "cell_type": "code",
   "execution_count": 8,
   "id": "f7591b8c",
   "metadata": {},
   "outputs": [
    {
     "data": {
      "text/plain": [
       "False    0.742055\n",
       "True     0.257945\n",
       "Name: is_guest, dtype: float64"
      ]
     },
     "execution_count": 8,
     "metadata": {},
     "output_type": "execute_result"
    }
   ],
   "source": [
    "sales['is_guest'].value_counts(normalize=True)"
   ]
  },
  {
   "cell_type": "markdown",
   "id": "f1a81529",
   "metadata": {},
   "source": [
    "Now we know around 25% of our records are guest checkouts. We need to keep in mind that each row in our dataset represents a purchased item and not a customer record. Hence, this won't be the actual proportion of guest checkouts. Now, to calculate the actual proportion:"
   ]
  },
  {
   "cell_type": "code",
   "execution_count": 11,
   "id": "0bb2a865",
   "metadata": {},
   "outputs": [
    {
     "name": "stdout",
     "output_type": "stream",
     "text": [
      "8301\n",
      "24962\n",
      "33262\n"
     ]
    }
   ],
   "source": [
    "guest_columns = [\"guest_first_name\", \"guest_surname\", \"guest_postcode\"]\n",
    "unique_guests = sales[guest_columns].drop_duplicates()\n",
    "print(len(unique_guests))\n",
    "\n",
    "unique_customers = sales[\"customer_id\"].unique()\n",
    "cust_total = len(unique_customers) + len(unique_guests) - 1 # Subtracting 1 because Null is also counted once\n",
    "print(len(unique_customers))\n",
    "print(cust_total)"
   ]
  },
  {
   "cell_type": "markdown",
   "id": "50b7f36a",
   "metadata": {},
   "source": [
    "## Exporting Customer Data from Purchases"
   ]
  },
  {
   "cell_type": "markdown",
   "id": "8ed30f92",
   "metadata": {},
   "source": [
    "We need to create a schema where we can store our customer records. If we look at our datasets, we can see that customer and CRM datasets have names, postcodes and age (which is not present in our guest customers, but we should not discard this column just because its not present in guests). We can also keep track of where our records came from by adding an indicator column for each data source. We could also just have one column called sources with values like 'purchases', 'CRM' or 'customer database' but it would not help us if we have duplicate customers in different sources.\n",
    "\n",
    "Our data model schema will contain these columns:\n",
    "customer_id, first_name, surname, postcode, age, is_guest, in_purchase_data, in_crm_data, in_customer_data"
   ]
  },
  {
   "cell_type": "markdown",
   "id": "61e27bf8",
   "metadata": {},
   "source": [
    "To extract customer data from purchases, we should first extract the guests and non-guests separately and then combine both."
   ]
  },
  {
   "cell_type": "code",
   "execution_count": 15,
   "id": "5e90ebed",
   "metadata": {},
   "outputs": [
    {
     "data": {
      "text/html": [
       "<div>\n",
       "<style scoped>\n",
       "    .dataframe tbody tr th:only-of-type {\n",
       "        vertical-align: middle;\n",
       "    }\n",
       "\n",
       "    .dataframe tbody tr th {\n",
       "        vertical-align: top;\n",
       "    }\n",
       "\n",
       "    .dataframe thead th {\n",
       "        text-align: right;\n",
       "    }\n",
       "</style>\n",
       "<table border=\"1\" class=\"dataframe\">\n",
       "  <thead>\n",
       "    <tr style=\"text-align: right;\">\n",
       "      <th></th>\n",
       "      <th>guest_first_name</th>\n",
       "      <th>guest_surname</th>\n",
       "      <th>guest_postcode</th>\n",
       "      <th>is_guest</th>\n",
       "    </tr>\n",
       "  </thead>\n",
       "  <tbody>\n",
       "    <tr>\n",
       "      <th>0</th>\n",
       "      <td>MICHAEL</td>\n",
       "      <td>MASON</td>\n",
       "      <td>RG497ZQ</td>\n",
       "      <td>True</td>\n",
       "    </tr>\n",
       "    <tr>\n",
       "      <th>2</th>\n",
       "      <td>COLE</td>\n",
       "      <td>WILKINSON</td>\n",
       "      <td>SW75TQ</td>\n",
       "      <td>True</td>\n",
       "    </tr>\n",
       "    <tr>\n",
       "      <th>3</th>\n",
       "      <td>MOHAMMED</td>\n",
       "      <td>RICHARDS</td>\n",
       "      <td>RG150RE</td>\n",
       "      <td>True</td>\n",
       "    </tr>\n",
       "    <tr>\n",
       "      <th>7</th>\n",
       "      <td>KIAN</td>\n",
       "      <td>MILLS</td>\n",
       "      <td>SW332TF</td>\n",
       "      <td>True</td>\n",
       "    </tr>\n",
       "    <tr>\n",
       "      <th>13</th>\n",
       "      <td>RUBY</td>\n",
       "      <td>OWEN</td>\n",
       "      <td>PO377YS</td>\n",
       "      <td>True</td>\n",
       "    </tr>\n",
       "  </tbody>\n",
       "</table>\n",
       "</div>"
      ],
      "text/plain": [
       "   guest_first_name guest_surname guest_postcode  is_guest\n",
       "0           MICHAEL         MASON        RG497ZQ      True\n",
       "2              COLE     WILKINSON         SW75TQ      True\n",
       "3          MOHAMMED      RICHARDS        RG150RE      True\n",
       "7              KIAN         MILLS        SW332TF      True\n",
       "13             RUBY          OWEN        PO377YS      True"
      ]
     },
     "execution_count": 15,
     "metadata": {},
     "output_type": "execute_result"
    }
   ],
   "source": [
    "guest_columns = ['guest_first_name', 'guest_surname', 'guest_postcode', 'is_guest']\n",
    "guests = sales.loc[sales['is_guest'], guest_columns]\n",
    "guests = guests.drop_duplicates()\n",
    "guests.head()"
   ]
  },
  {
   "cell_type": "code",
   "execution_count": 16,
   "id": "e4357203",
   "metadata": {},
   "outputs": [
    {
     "data": {
      "text/html": [
       "<div>\n",
       "<style scoped>\n",
       "    .dataframe tbody tr th:only-of-type {\n",
       "        vertical-align: middle;\n",
       "    }\n",
       "\n",
       "    .dataframe tbody tr th {\n",
       "        vertical-align: top;\n",
       "    }\n",
       "\n",
       "    .dataframe thead th {\n",
       "        text-align: right;\n",
       "    }\n",
       "</style>\n",
       "<table border=\"1\" class=\"dataframe\">\n",
       "  <thead>\n",
       "    <tr style=\"text-align: right;\">\n",
       "      <th></th>\n",
       "      <th>customer_id</th>\n",
       "    </tr>\n",
       "  </thead>\n",
       "  <tbody>\n",
       "    <tr>\n",
       "      <th>0</th>\n",
       "      <td>7466</td>\n",
       "    </tr>\n",
       "    <tr>\n",
       "      <th>1</th>\n",
       "      <td>31266</td>\n",
       "    </tr>\n",
       "    <tr>\n",
       "      <th>2</th>\n",
       "      <td>534142828</td>\n",
       "    </tr>\n",
       "    <tr>\n",
       "      <th>3</th>\n",
       "      <td>1035</td>\n",
       "    </tr>\n",
       "    <tr>\n",
       "      <th>4</th>\n",
       "      <td>6985</td>\n",
       "    </tr>\n",
       "  </tbody>\n",
       "</table>\n",
       "</div>"
      ],
      "text/plain": [
       "   customer_id\n",
       "0         7466\n",
       "1        31266\n",
       "2    534142828\n",
       "3         1035\n",
       "4         6985"
      ]
     },
     "execution_count": 16,
     "metadata": {},
     "output_type": "execute_result"
    }
   ],
   "source": [
    "non_guests = (pd.DataFrame(sales.loc[sales[\"customer_id\"].notnull(), \"customer_id\"]\n",
    "                          .unique()\n",
    "                          .astype(int),\n",
    "                          columns = ['customer_id']\n",
    "                          ))\n",
    "non_guests.head()"
   ]
  },
  {
   "cell_type": "code",
   "execution_count": 17,
   "id": "9abc74b7",
   "metadata": {},
   "outputs": [],
   "source": [
    "sales_customers = pd.concat([non_guests, guests], axis=0, ignore_index=True)"
   ]
  },
  {
   "cell_type": "code",
   "execution_count": 18,
   "id": "65cfc30e",
   "metadata": {},
   "outputs": [],
   "source": [
    "new_col_names = [\"customer_id\", \"first_name\", \"surname\",\"postcode\", \"is_guest\"]\n",
    "sales_customers = sales_customers.set_axis(new_col_names, axis=1)"
   ]
  },
  {
   "cell_type": "code",
   "execution_count": 19,
   "id": "e00928f0",
   "metadata": {},
   "outputs": [],
   "source": [
    "sales_customers[\"is_guest\"] = sales_customers[\"is_guest\"].fillna(False)"
   ]
  },
  {
   "cell_type": "code",
   "execution_count": 20,
   "id": "8c414533",
   "metadata": {},
   "outputs": [],
   "source": [
    "sales_customers[\"in_purchase_data\"] = True"
   ]
  },
  {
   "cell_type": "code",
   "execution_count": null,
   "id": "10b618ea",
   "metadata": {},
   "outputs": [],
   "source": [
    "for col in [\"first_name\", \"surname\"]:\n",
    " sales_customers[col] = sales_customers[col].str.lower().str.strip()\n",
    "\n",
    "\n",
    "sales_customers[\"postcode\"] = sales_customers[\"postcode\"].str.strip()"
   ]
  }
 ],
 "metadata": {
  "kernelspec": {
   "display_name": "Python 3 (ipykernel)",
   "language": "python",
   "name": "python3"
  },
  "language_info": {
   "codemirror_mode": {
    "name": "ipython",
    "version": 3
   },
   "file_extension": ".py",
   "mimetype": "text/x-python",
   "name": "python",
   "nbconvert_exporter": "python",
   "pygments_lexer": "ipython3",
   "version": "3.9.12"
  }
 },
 "nbformat": 4,
 "nbformat_minor": 5
}
