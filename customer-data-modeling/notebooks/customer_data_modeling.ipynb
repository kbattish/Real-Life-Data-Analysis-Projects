{
 "cells": [
  {
   "cell_type": "markdown",
   "id": "d0ff5a52",
   "metadata": {},
   "source": [
    "# E-commerce Customer Profiling and Data Consolidation Project"
   ]
  },
  {
   "cell_type": "markdown",
   "id": "427e2b4e",
   "metadata": {},
   "source": [
    "# Problem Statement\n",
    "\n",
    "An e-commerce startup, after a successful first month, is seeking to better understand its customer base and purchasing patterns. They aim to answer fundamental questions like \"Who are our customers?\" \"What do they buy?\" and \"What drives their purchasing behavior?\" However, they face challenges in accurately identifying and counting customers due to disparate data sources, including:\n",
    "\n",
    "1. A customer database recording online account sign-ups,\n",
    "2. A CRM system tracking phone and non-online customer interactions, and\n",
    "3. Raw transaction data that includes guest purchases with no formal customer record.\n",
    "\n",
    "These sources of data may have overlapping entries or duplicate records, often due to customers engaging with multiple systems (e.g., making a purchase as a guest, then creating an account later). Furthermore, customer information may vary across entries due to potential discrepancies like typos or alternative identifiers. The startup seeks the assistance of an analyst to address these complexities and provide an accurate count and profile of their customers.\n"
   ]
  },
  {
   "cell_type": "markdown",
   "id": "1a7cde6d",
   "metadata": {},
   "source": [
    "## Project Goals\n",
    "\n",
    "1. **Data Consolidation:**  \n",
    "   Integrate customer information across all available sources to create a unified, comprehensive dataset representing the complete customer base.\n",
    "\n",
    "2. **Data Deduplication:**  \n",
    "   Identify and resolve duplicate records, maintaining data lineage to track original sources and identifiers for each customer where possible.\n",
    "\n",
    "3. **Customer Identification:**  \n",
    "   Develop a data model that uniquely identifies each customer, regardless of which data source(s) they appear in, and can be easily queried for counts and profiles.\n",
    "\n",
    "4. **Data Validation:**  \n",
    "   Ensure data integrity by confirming assumptions, identifying inconsistencies, and validating data completeness to maximize reliability.\n",
    "\n",
    "5. **Solution Documentation:**  \n",
    "   Create a flexible and traceable solution, with a well-defined schema that supports future analysis of customer demographics and purchasing behavior.\n",
    "\n",
    "This project will ultimately enable the startup to answer critical questions about their customer demographics and purchasing trends, creating a foundation for data-driven decision-making."
   ]
  },
  {
   "cell_type": "markdown",
   "id": "97105d02",
   "metadata": {},
   "source": [
    "To actually perform the data modeling, we should take the following course of action:\n",
    "\n",
    "1. First we explore all 3 datasets. We should see if the values in all the columns make sense.\n",
    "\n",
    "2. Then we can trim down our data before we merge our different datasets, so that we have unique customers\n",
    "\n",
    "3. Then we merge these trimmed datasets and remove duplicates carefully.\n",
    "\n",
    "4. When performing deduplication, we need to go one step beyond and identify more than just exact match duplicates. We can use Fuzzy Matching here.\n",
    "\n",
    "5. Finally, we clean and present our data model."
   ]
  },
  {
   "cell_type": "markdown",
   "id": "5f5471d4",
   "metadata": {},
   "source": [
    "## Exploring our Purchases Dataset"
   ]
  },
  {
   "cell_type": "code",
   "execution_count": 1,
   "id": "b19ca04c",
   "metadata": {},
   "outputs": [
    {
     "name": "stdout",
     "output_type": "stream",
     "text": [
      "(71519, 11)\n"
     ]
    }
   ],
   "source": [
    "import pandas as pd\n",
    "import numpy as np\n",
    "\n",
    "sales = pd.read_csv(\"../data/purchases.csv\")\n",
    "print(sales.shape)"
   ]
  },
  {
   "cell_type": "code",
   "execution_count": 2,
   "id": "be6ffee8",
   "metadata": {},
   "outputs": [
    {
     "data": {
      "text/html": [
       "<div>\n",
       "<style scoped>\n",
       "    .dataframe tbody tr th:only-of-type {\n",
       "        vertical-align: middle;\n",
       "    }\n",
       "\n",
       "    .dataframe tbody tr th {\n",
       "        vertical-align: top;\n",
       "    }\n",
       "\n",
       "    .dataframe thead th {\n",
       "        text-align: right;\n",
       "    }\n",
       "</style>\n",
       "<table border=\"1\" class=\"dataframe\">\n",
       "  <thead>\n",
       "    <tr style=\"text-align: right;\">\n",
       "      <th></th>\n",
       "      <th>event_time</th>\n",
       "      <th>product_id</th>\n",
       "      <th>category_id</th>\n",
       "      <th>category_code</th>\n",
       "      <th>brand</th>\n",
       "      <th>price</th>\n",
       "      <th>session_id</th>\n",
       "      <th>customer_id</th>\n",
       "      <th>guest_first_name</th>\n",
       "      <th>guest_surname</th>\n",
       "      <th>guest_postcode</th>\n",
       "    </tr>\n",
       "  </thead>\n",
       "  <tbody>\n",
       "    <tr>\n",
       "      <th>0</th>\n",
       "      <td>2022-10-01 02:26:08+00:00</td>\n",
       "      <td>32701106</td>\n",
       "      <td>2055156924466332447</td>\n",
       "      <td>NaN</td>\n",
       "      <td>shimano</td>\n",
       "      <td>95.21</td>\n",
       "      <td>64c68405-7002-4ce0-9604-a4c2e1f7384b</td>\n",
       "      <td>NaN</td>\n",
       "      <td>MICHAEL</td>\n",
       "      <td>MASON</td>\n",
       "      <td>RG497ZQ</td>\n",
       "    </tr>\n",
       "    <tr>\n",
       "      <th>1</th>\n",
       "      <td>2022-10-01 02:28:32+00:00</td>\n",
       "      <td>9400066</td>\n",
       "      <td>2053013566067311601</td>\n",
       "      <td>NaN</td>\n",
       "      <td>jaguar</td>\n",
       "      <td>164.20</td>\n",
       "      <td>3b7d6741-3c82-4c75-8015-6f54b52612e0</td>\n",
       "      <td>7466.0</td>\n",
       "      <td>NaN</td>\n",
       "      <td>NaN</td>\n",
       "      <td>NaN</td>\n",
       "    </tr>\n",
       "    <tr>\n",
       "      <th>2</th>\n",
       "      <td>2022-10-01 02:31:01+00:00</td>\n",
       "      <td>1004238</td>\n",
       "      <td>2053013555631882655</td>\n",
       "      <td>electronics.smartphone</td>\n",
       "      <td>apple</td>\n",
       "      <td>1206.40</td>\n",
       "      <td>38c6d3f7-6c32-4fed-bca6-ef98e1746386</td>\n",
       "      <td>NaN</td>\n",
       "      <td>COLE</td>\n",
       "      <td>WILKINSON</td>\n",
       "      <td>SW75TQ</td>\n",
       "    </tr>\n",
       "    <tr>\n",
       "      <th>3</th>\n",
       "      <td>2022-10-01 02:33:31+00:00</td>\n",
       "      <td>11300059</td>\n",
       "      <td>2053013555531219353</td>\n",
       "      <td>electronics.telephone</td>\n",
       "      <td>texet</td>\n",
       "      <td>17.48</td>\n",
       "      <td>3398c966-7846-4186-89be-323daad735b9</td>\n",
       "      <td>NaN</td>\n",
       "      <td>MOHAMMED</td>\n",
       "      <td>RICHARDS</td>\n",
       "      <td>RG150RE</td>\n",
       "    </tr>\n",
       "    <tr>\n",
       "      <th>4</th>\n",
       "      <td>2022-10-01 02:40:18+00:00</td>\n",
       "      <td>17300751</td>\n",
       "      <td>2053013553853497655</td>\n",
       "      <td>NaN</td>\n",
       "      <td>versace</td>\n",
       "      <td>77.22</td>\n",
       "      <td>11e3a573-01b9-4794-b513-e7d8a4fcac83</td>\n",
       "      <td>31266.0</td>\n",
       "      <td>NaN</td>\n",
       "      <td>NaN</td>\n",
       "      <td>NaN</td>\n",
       "    </tr>\n",
       "  </tbody>\n",
       "</table>\n",
       "</div>"
      ],
      "text/plain": [
       "                  event_time  product_id          category_id  \\\n",
       "0  2022-10-01 02:26:08+00:00    32701106  2055156924466332447   \n",
       "1  2022-10-01 02:28:32+00:00     9400066  2053013566067311601   \n",
       "2  2022-10-01 02:31:01+00:00     1004238  2053013555631882655   \n",
       "3  2022-10-01 02:33:31+00:00    11300059  2053013555531219353   \n",
       "4  2022-10-01 02:40:18+00:00    17300751  2053013553853497655   \n",
       "\n",
       "            category_code    brand    price  \\\n",
       "0                     NaN  shimano    95.21   \n",
       "1                     NaN   jaguar   164.20   \n",
       "2  electronics.smartphone    apple  1206.40   \n",
       "3   electronics.telephone    texet    17.48   \n",
       "4                     NaN  versace    77.22   \n",
       "\n",
       "                             session_id  customer_id guest_first_name  \\\n",
       "0  64c68405-7002-4ce0-9604-a4c2e1f7384b          NaN          MICHAEL   \n",
       "1  3b7d6741-3c82-4c75-8015-6f54b52612e0       7466.0              NaN   \n",
       "2  38c6d3f7-6c32-4fed-bca6-ef98e1746386          NaN             COLE   \n",
       "3  3398c966-7846-4186-89be-323daad735b9          NaN         MOHAMMED   \n",
       "4  11e3a573-01b9-4794-b513-e7d8a4fcac83      31266.0              NaN   \n",
       "\n",
       "  guest_surname guest_postcode  \n",
       "0         MASON        RG497ZQ  \n",
       "1           NaN            NaN  \n",
       "2     WILKINSON         SW75TQ  \n",
       "3      RICHARDS        RG150RE  \n",
       "4           NaN            NaN  "
      ]
     },
     "execution_count": 2,
     "metadata": {},
     "output_type": "execute_result"
    }
   ],
   "source": [
    "sales.head()\n"
   ]
  },
  {
   "cell_type": "code",
   "execution_count": 3,
   "id": "cc134702",
   "metadata": {},
   "outputs": [
    {
     "data": {
      "text/plain": [
       "event_time              0\n",
       "product_id              0\n",
       "category_id             0\n",
       "category_code       16739\n",
       "brand                5707\n",
       "price                   0\n",
       "session_id              0\n",
       "customer_id         18448\n",
       "guest_first_name    53071\n",
       "guest_surname       53071\n",
       "guest_postcode      53071\n",
       "dtype: int64"
      ]
     },
     "execution_count": 3,
     "metadata": {},
     "output_type": "execute_result"
    }
   ],
   "source": [
    "sales.isnull().sum()"
   ]
  },
  {
   "cell_type": "markdown",
   "id": "7dce6960",
   "metadata": {},
   "source": [
    "Looks like the 18448 missing customer IDs (which are guest checkouts) and the 53071 missing guest values (which are registered customers) make up all of our data. We should verify there's no overlap, e.g. a row with both customer ID and guest details missing.\n",
    "\n",
    "Let's create a column to track guest checkouts:"
   ]
  },
  {
   "cell_type": "code",
   "execution_count": 4,
   "id": "c00bc0b8",
   "metadata": {},
   "outputs": [],
   "source": [
    "sales[\"is_guest\"] = sales[\"customer_id\"].isnull()"
   ]
  },
  {
   "cell_type": "markdown",
   "id": "60775e5a",
   "metadata": {},
   "source": [
    "Let's check cases where a guest checkout also had a customer id filled"
   ]
  },
  {
   "cell_type": "code",
   "execution_count": 5,
   "id": "27b90a5a",
   "metadata": {},
   "outputs": [
    {
     "data": {
      "text/html": [
       "<div>\n",
       "<style scoped>\n",
       "    .dataframe tbody tr th:only-of-type {\n",
       "        vertical-align: middle;\n",
       "    }\n",
       "\n",
       "    .dataframe tbody tr th {\n",
       "        vertical-align: top;\n",
       "    }\n",
       "\n",
       "    .dataframe thead th {\n",
       "        text-align: right;\n",
       "    }\n",
       "</style>\n",
       "<table border=\"1\" class=\"dataframe\">\n",
       "  <thead>\n",
       "    <tr style=\"text-align: right;\">\n",
       "      <th></th>\n",
       "      <th>event_time</th>\n",
       "      <th>product_id</th>\n",
       "      <th>category_id</th>\n",
       "      <th>category_code</th>\n",
       "      <th>brand</th>\n",
       "      <th>price</th>\n",
       "      <th>session_id</th>\n",
       "      <th>customer_id</th>\n",
       "      <th>guest_first_name</th>\n",
       "      <th>guest_surname</th>\n",
       "      <th>guest_postcode</th>\n",
       "      <th>is_guest</th>\n",
       "    </tr>\n",
       "  </thead>\n",
       "  <tbody>\n",
       "  </tbody>\n",
       "</table>\n",
       "</div>"
      ],
      "text/plain": [
       "Empty DataFrame\n",
       "Columns: [event_time, product_id, category_id, category_code, brand, price, session_id, customer_id, guest_first_name, guest_surname, guest_postcode, is_guest]\n",
       "Index: []"
      ]
     },
     "execution_count": 5,
     "metadata": {},
     "output_type": "execute_result"
    }
   ],
   "source": [
    "sales[sales[\"is_guest\"] & sales[\"customer_id\"].notnull()]"
   ]
  },
  {
   "cell_type": "markdown",
   "id": "fa40b403",
   "metadata": {},
   "source": [
    "no such case. Let's also check cases where we neither have a guest checkout nor a customer id filled."
   ]
  },
  {
   "cell_type": "code",
   "execution_count": 6,
   "id": "65525ca9",
   "metadata": {},
   "outputs": [
    {
     "data": {
      "text/html": [
       "<div>\n",
       "<style scoped>\n",
       "    .dataframe tbody tr th:only-of-type {\n",
       "        vertical-align: middle;\n",
       "    }\n",
       "\n",
       "    .dataframe tbody tr th {\n",
       "        vertical-align: top;\n",
       "    }\n",
       "\n",
       "    .dataframe thead th {\n",
       "        text-align: right;\n",
       "    }\n",
       "</style>\n",
       "<table border=\"1\" class=\"dataframe\">\n",
       "  <thead>\n",
       "    <tr style=\"text-align: right;\">\n",
       "      <th></th>\n",
       "      <th>event_time</th>\n",
       "      <th>product_id</th>\n",
       "      <th>category_id</th>\n",
       "      <th>category_code</th>\n",
       "      <th>brand</th>\n",
       "      <th>price</th>\n",
       "      <th>session_id</th>\n",
       "      <th>customer_id</th>\n",
       "      <th>guest_first_name</th>\n",
       "      <th>guest_surname</th>\n",
       "      <th>guest_postcode</th>\n",
       "      <th>is_guest</th>\n",
       "    </tr>\n",
       "  </thead>\n",
       "  <tbody>\n",
       "  </tbody>\n",
       "</table>\n",
       "</div>"
      ],
      "text/plain": [
       "Empty DataFrame\n",
       "Columns: [event_time, product_id, category_id, category_code, brand, price, session_id, customer_id, guest_first_name, guest_surname, guest_postcode, is_guest]\n",
       "Index: []"
      ]
     },
     "execution_count": 6,
     "metadata": {},
     "output_type": "execute_result"
    }
   ],
   "source": [
    "sales[(sales[\"is_guest\"] == False) & sales[\"customer_id\"].isnull()]"
   ]
  },
  {
   "cell_type": "markdown",
   "id": "09c87340",
   "metadata": {},
   "source": [
    "This tells us that either all rows are a guest checkout or a purchase made by a registered customer. Let's now check what percentage of records are guest checkouts."
   ]
  },
  {
   "cell_type": "code",
   "execution_count": 7,
   "id": "2855d327",
   "metadata": {},
   "outputs": [
    {
     "data": {
      "text/plain": [
       "False    0.742055\n",
       "True     0.257945\n",
       "Name: is_guest, dtype: float64"
      ]
     },
     "execution_count": 7,
     "metadata": {},
     "output_type": "execute_result"
    }
   ],
   "source": [
    "sales['is_guest'].value_counts(normalize=True)"
   ]
  },
  {
   "cell_type": "markdown",
   "id": "47afa470",
   "metadata": {},
   "source": [
    "Now we know around 25% of our records are guest checkouts. We need to keep in mind that each row in our dataset represents a purchased item and not a customer record. Hence, this won't be the actual proportion of guest checkouts. Now, to calculate the actual proportion:"
   ]
  },
  {
   "cell_type": "code",
   "execution_count": 8,
   "id": "2a69c9ad",
   "metadata": {},
   "outputs": [
    {
     "name": "stdout",
     "output_type": "stream",
     "text": [
      "8301\n",
      "24962\n",
      "33262\n"
     ]
    }
   ],
   "source": [
    "guest_columns = [\"guest_first_name\", \"guest_surname\", \"guest_postcode\"]\n",
    "unique_guests = sales[guest_columns].drop_duplicates()\n",
    "print(len(unique_guests))\n",
    "\n",
    "unique_customers = sales[\"customer_id\"].unique()\n",
    "cust_total = len(unique_customers) + len(unique_guests) - 1 # Subtracting 1 because Null is also counted once\n",
    "print(len(unique_customers))\n",
    "print(cust_total)"
   ]
  },
  {
   "cell_type": "markdown",
   "id": "63376b6e",
   "metadata": {},
   "source": [
    "## Exporting Customer Data from Purchases"
   ]
  },
  {
   "cell_type": "markdown",
   "id": "7fbc8e8b",
   "metadata": {},
   "source": [
    "We need to create a schema where we can store our customer records. If we look at our datasets, we can see that customer and CRM datasets have names, postcodes and age (which is not present in our guest customers, but we should not discard this column just because its not present in guests). We can also keep track of where our records came from by adding an indicator column for each data source. We could also just have one column called sources with values like 'purchases', 'CRM' or 'customer database' but it would not help us if we have duplicate customers in different sources.\n",
    "\n",
    "Our data model schema will contain these columns:\n",
    "customer_id, first_name, surname, postcode, age, is_guest, in_purchase_data, in_crm_data, in_customer_data"
   ]
  },
  {
   "cell_type": "markdown",
   "id": "3b5d655d",
   "metadata": {},
   "source": [
    "To extract customer data from purchases, we should first extract the guests and non-guests separately and then combine both."
   ]
  },
  {
   "cell_type": "code",
   "execution_count": 9,
   "id": "74d0c8db",
   "metadata": {},
   "outputs": [
    {
     "data": {
      "text/html": [
       "<div>\n",
       "<style scoped>\n",
       "    .dataframe tbody tr th:only-of-type {\n",
       "        vertical-align: middle;\n",
       "    }\n",
       "\n",
       "    .dataframe tbody tr th {\n",
       "        vertical-align: top;\n",
       "    }\n",
       "\n",
       "    .dataframe thead th {\n",
       "        text-align: right;\n",
       "    }\n",
       "</style>\n",
       "<table border=\"1\" class=\"dataframe\">\n",
       "  <thead>\n",
       "    <tr style=\"text-align: right;\">\n",
       "      <th></th>\n",
       "      <th>guest_first_name</th>\n",
       "      <th>guest_surname</th>\n",
       "      <th>guest_postcode</th>\n",
       "      <th>is_guest</th>\n",
       "    </tr>\n",
       "  </thead>\n",
       "  <tbody>\n",
       "    <tr>\n",
       "      <th>0</th>\n",
       "      <td>MICHAEL</td>\n",
       "      <td>MASON</td>\n",
       "      <td>RG497ZQ</td>\n",
       "      <td>True</td>\n",
       "    </tr>\n",
       "    <tr>\n",
       "      <th>2</th>\n",
       "      <td>COLE</td>\n",
       "      <td>WILKINSON</td>\n",
       "      <td>SW75TQ</td>\n",
       "      <td>True</td>\n",
       "    </tr>\n",
       "    <tr>\n",
       "      <th>3</th>\n",
       "      <td>MOHAMMED</td>\n",
       "      <td>RICHARDS</td>\n",
       "      <td>RG150RE</td>\n",
       "      <td>True</td>\n",
       "    </tr>\n",
       "    <tr>\n",
       "      <th>7</th>\n",
       "      <td>KIAN</td>\n",
       "      <td>MILLS</td>\n",
       "      <td>SW332TF</td>\n",
       "      <td>True</td>\n",
       "    </tr>\n",
       "    <tr>\n",
       "      <th>13</th>\n",
       "      <td>RUBY</td>\n",
       "      <td>OWEN</td>\n",
       "      <td>PO377YS</td>\n",
       "      <td>True</td>\n",
       "    </tr>\n",
       "  </tbody>\n",
       "</table>\n",
       "</div>"
      ],
      "text/plain": [
       "   guest_first_name guest_surname guest_postcode  is_guest\n",
       "0           MICHAEL         MASON        RG497ZQ      True\n",
       "2              COLE     WILKINSON         SW75TQ      True\n",
       "3          MOHAMMED      RICHARDS        RG150RE      True\n",
       "7              KIAN         MILLS        SW332TF      True\n",
       "13             RUBY          OWEN        PO377YS      True"
      ]
     },
     "execution_count": 9,
     "metadata": {},
     "output_type": "execute_result"
    }
   ],
   "source": [
    "guest_columns = ['guest_first_name', 'guest_surname', 'guest_postcode', 'is_guest']\n",
    "guests = sales.loc[sales['is_guest'], guest_columns]\n",
    "guests = guests.drop_duplicates()\n",
    "guests.head()"
   ]
  },
  {
   "cell_type": "code",
   "execution_count": 10,
   "id": "e9704328",
   "metadata": {},
   "outputs": [
    {
     "data": {
      "text/html": [
       "<div>\n",
       "<style scoped>\n",
       "    .dataframe tbody tr th:only-of-type {\n",
       "        vertical-align: middle;\n",
       "    }\n",
       "\n",
       "    .dataframe tbody tr th {\n",
       "        vertical-align: top;\n",
       "    }\n",
       "\n",
       "    .dataframe thead th {\n",
       "        text-align: right;\n",
       "    }\n",
       "</style>\n",
       "<table border=\"1\" class=\"dataframe\">\n",
       "  <thead>\n",
       "    <tr style=\"text-align: right;\">\n",
       "      <th></th>\n",
       "      <th>customer_id</th>\n",
       "    </tr>\n",
       "  </thead>\n",
       "  <tbody>\n",
       "    <tr>\n",
       "      <th>0</th>\n",
       "      <td>7466</td>\n",
       "    </tr>\n",
       "    <tr>\n",
       "      <th>1</th>\n",
       "      <td>31266</td>\n",
       "    </tr>\n",
       "    <tr>\n",
       "      <th>2</th>\n",
       "      <td>534142828</td>\n",
       "    </tr>\n",
       "    <tr>\n",
       "      <th>3</th>\n",
       "      <td>1035</td>\n",
       "    </tr>\n",
       "    <tr>\n",
       "      <th>4</th>\n",
       "      <td>6985</td>\n",
       "    </tr>\n",
       "  </tbody>\n",
       "</table>\n",
       "</div>"
      ],
      "text/plain": [
       "   customer_id\n",
       "0         7466\n",
       "1        31266\n",
       "2    534142828\n",
       "3         1035\n",
       "4         6985"
      ]
     },
     "execution_count": 10,
     "metadata": {},
     "output_type": "execute_result"
    }
   ],
   "source": [
    "non_guests = (pd.DataFrame(sales.loc[sales[\"customer_id\"].notnull(), \"customer_id\"]\n",
    "                          .unique()\n",
    "                          .astype(int),\n",
    "                          columns = ['customer_id']\n",
    "                          ))\n",
    "non_guests.head()"
   ]
  },
  {
   "cell_type": "code",
   "execution_count": 11,
   "id": "83972baf",
   "metadata": {},
   "outputs": [],
   "source": [
    "sales_customers = pd.concat([non_guests, guests], axis=0, ignore_index=True)"
   ]
  },
  {
   "cell_type": "code",
   "execution_count": 12,
   "id": "f498af7f",
   "metadata": {},
   "outputs": [],
   "source": [
    "new_col_names = [\"customer_id\", \"first_name\", \"surname\",\"postcode\", \"is_guest\"]\n",
    "sales_customers = sales_customers.set_axis(new_col_names, axis=1)"
   ]
  },
  {
   "cell_type": "code",
   "execution_count": 13,
   "id": "e180aa89",
   "metadata": {},
   "outputs": [],
   "source": [
    "sales_customers[\"is_guest\"] = sales_customers[\"is_guest\"].fillna(False)"
   ]
  },
  {
   "cell_type": "code",
   "execution_count": 14,
   "id": "af2ea393",
   "metadata": {},
   "outputs": [],
   "source": [
    "sales_customers[\"in_purchase_data\"] = True"
   ]
  },
  {
   "cell_type": "code",
   "execution_count": 15,
   "id": "cb976ec8",
   "metadata": {},
   "outputs": [],
   "source": [
    "for col in [\"first_name\", \"surname\"]:\n",
    "    sales_customers[col] = sales_customers[col].str.lower().str.strip()\n",
    "\n",
    "\n",
    "sales_customers[\"postcode\"] = sales_customers[\"postcode\"].str.strip()"
   ]
  },
  {
   "cell_type": "markdown",
   "id": "00f0116c",
   "metadata": {},
   "source": [
    "We have successfully extracted customers data from purchases."
   ]
  },
  {
   "cell_type": "markdown",
   "id": "b452885a",
   "metadata": {},
   "source": [
    "## Exploring CRM Data"
   ]
  },
  {
   "cell_type": "code",
   "execution_count": 16,
   "id": "9d24d49a",
   "metadata": {},
   "outputs": [
    {
     "name": "stdout",
     "output_type": "stream",
     "text": [
      "(7825, 5)\n"
     ]
    },
    {
     "data": {
      "text/html": [
       "<div>\n",
       "<style scoped>\n",
       "    .dataframe tbody tr th:only-of-type {\n",
       "        vertical-align: middle;\n",
       "    }\n",
       "\n",
       "    .dataframe tbody tr th {\n",
       "        vertical-align: top;\n",
       "    }\n",
       "\n",
       "    .dataframe thead th {\n",
       "        text-align: right;\n",
       "    }\n",
       "</style>\n",
       "<table border=\"1\" class=\"dataframe\">\n",
       "  <thead>\n",
       "    <tr style=\"text-align: right;\">\n",
       "      <th></th>\n",
       "      <th>customer_id</th>\n",
       "      <th>first_name</th>\n",
       "      <th>surname</th>\n",
       "      <th>postcode</th>\n",
       "      <th>age</th>\n",
       "    </tr>\n",
       "  </thead>\n",
       "  <tbody>\n",
       "    <tr>\n",
       "      <th>0</th>\n",
       "      <td>29223</td>\n",
       "      <td>Holly</td>\n",
       "      <td>Rogers</td>\n",
       "      <td>LS475RT</td>\n",
       "      <td>12</td>\n",
       "    </tr>\n",
       "    <tr>\n",
       "      <th>1</th>\n",
       "      <td>27826</td>\n",
       "      <td>Daniel</td>\n",
       "      <td>Owen</td>\n",
       "      <td>M902XX</td>\n",
       "      <td>5</td>\n",
       "    </tr>\n",
       "    <tr>\n",
       "      <th>2</th>\n",
       "      <td>7432</td>\n",
       "      <td>Eleanor</td>\n",
       "      <td>Russell</td>\n",
       "      <td>HR904ZA</td>\n",
       "      <td>34</td>\n",
       "    </tr>\n",
       "    <tr>\n",
       "      <th>3</th>\n",
       "      <td>2569</td>\n",
       "      <td>Paige</td>\n",
       "      <td>Roberts</td>\n",
       "      <td>DE732EP</td>\n",
       "      <td>61</td>\n",
       "    </tr>\n",
       "    <tr>\n",
       "      <th>4</th>\n",
       "      <td>9195</td>\n",
       "      <td>Matilda</td>\n",
       "      <td>Young</td>\n",
       "      <td>LS670FU</td>\n",
       "      <td>78</td>\n",
       "    </tr>\n",
       "  </tbody>\n",
       "</table>\n",
       "</div>"
      ],
      "text/plain": [
       "   customer_id first_name  surname postcode  age\n",
       "0        29223      Holly   Rogers  LS475RT   12\n",
       "1        27826     Daniel     Owen   M902XX    5\n",
       "2         7432    Eleanor  Russell  HR904ZA   34\n",
       "3         2569      Paige  Roberts  DE732EP   61\n",
       "4         9195    Matilda    Young  LS670FU   78"
      ]
     },
     "execution_count": 16,
     "metadata": {},
     "output_type": "execute_result"
    }
   ],
   "source": [
    "crm = pd.read_csv(\"../data/crm_export.csv\")\n",
    "print(crm.shape)\n",
    "crm.head()"
   ]
  },
  {
   "cell_type": "code",
   "execution_count": 17,
   "id": "90e0cea0",
   "metadata": {},
   "outputs": [
    {
     "data": {
      "text/plain": [
       "customer_id    0\n",
       "first_name     0\n",
       "surname        0\n",
       "postcode       0\n",
       "age            0\n",
       "dtype: int64"
      ]
     },
     "execution_count": 17,
     "metadata": {},
     "output_type": "execute_result"
    }
   ],
   "source": [
    "crm.isnull().sum()\n"
   ]
  },
  {
   "cell_type": "code",
   "execution_count": 18,
   "id": "1614029f",
   "metadata": {},
   "outputs": [
    {
     "data": {
      "text/plain": [
       "customer_id    0\n",
       "first_name     0\n",
       "surname        0\n",
       "postcode       0\n",
       "age            0\n",
       "dtype: int64"
      ]
     },
     "execution_count": 18,
     "metadata": {},
     "output_type": "execute_result"
    }
   ],
   "source": [
    "crm.isnull().sum()"
   ]
  },
  {
   "cell_type": "markdown",
   "id": "99990c30",
   "metadata": {},
   "source": [
    "Sanitizing string columns"
   ]
  },
  {
   "cell_type": "code",
   "execution_count": 19,
   "id": "12f9f078",
   "metadata": {},
   "outputs": [],
   "source": [
    "for col in [\"first_name\", \"surname\"]:\n",
    "    crm[col] = crm[col].str.lower().str.strip()\n",
    "\n",
    "crm[\"postcode\"] = crm[\"postcode\"].str.strip()"
   ]
  },
  {
   "cell_type": "code",
   "execution_count": 20,
   "id": "8f4d6959",
   "metadata": {},
   "outputs": [
    {
     "data": {
      "text/plain": [
       "Series([], dtype: int64)"
      ]
     },
     "execution_count": 20,
     "metadata": {},
     "output_type": "execute_result"
    }
   ],
   "source": [
    "# Verifying that customer ID is unique\n",
    "crm.groupby(\"customer_id\").size().loc[lambda x: x > 1]"
   ]
  },
  {
   "cell_type": "code",
   "execution_count": 21,
   "id": "db34a2d8",
   "metadata": {},
   "outputs": [
    {
     "name": "stdout",
     "output_type": "stream",
     "text": [
      "7825\n",
      "7419\n"
     ]
    }
   ],
   "source": [
    "# Checking for duplicate information\n",
    "print(len(crm))\n",
    "print(len(crm.drop(columns=\"customer_id\").drop_duplicates()))\n"
   ]
  },
  {
   "cell_type": "code",
   "execution_count": 22,
   "id": "cb353781",
   "metadata": {},
   "outputs": [
    {
     "name": "stdout",
     "output_type": "stream",
     "text": [
      "7825 rows\n",
      "7419 unique combinations of customer information\n"
     ]
    }
   ],
   "source": [
    "print(\"{} rows\".format(len(crm)))\n",
    "print(\"{} unique combinations of customer information\".format(len(crm.drop(columns=\"customer_id\").drop_duplicates())))"
   ]
  },
  {
   "cell_type": "markdown",
   "id": "baa04798",
   "metadata": {},
   "source": [
    "Now let's join CRM data to purchases where purchases have a customer ID (not guests)"
   ]
  },
  {
   "cell_type": "code",
   "execution_count": 23,
   "id": "49976724",
   "metadata": {},
   "outputs": [
    {
     "name": "stdout",
     "output_type": "stream",
     "text": [
      "33261\n"
     ]
    },
    {
     "data": {
      "text/plain": [
       "customer_id          8300\n",
       "first_name          24961\n",
       "surname             24961\n",
       "postcode            24961\n",
       "is_guest                0\n",
       "in_purchase_data        0\n",
       "dtype: int64"
      ]
     },
     "execution_count": 23,
     "metadata": {},
     "output_type": "execute_result"
    }
   ],
   "source": [
    "print(len(sales_customers))\n",
    "sales_customers.isnull().sum()"
   ]
  },
  {
   "cell_type": "code",
   "execution_count": 24,
   "id": "ed8f0e91",
   "metadata": {},
   "outputs": [
    {
     "name": "stdout",
     "output_type": "stream",
     "text": [
      "33261\n"
     ]
    },
    {
     "data": {
      "text/plain": [
       "customer_id          8300\n",
       "first_name_sales    24961\n",
       "surname_sales       24961\n",
       "postcode_sales      24961\n",
       "is_guest                0\n",
       "in_purchase_data        0\n",
       "first_name_crm      26147\n",
       "surname_crm         26147\n",
       "postcode_crm        26147\n",
       "age                 26147\n",
       "dtype: int64"
      ]
     },
     "execution_count": 24,
     "metadata": {},
     "output_type": "execute_result"
    }
   ],
   "source": [
    "sales_and_crm_customers = sales_customers.merge(crm, on=\"customer_id\", how=\"left\", suffixes=(\"_sales\", \"_crm\"))\n",
    "print(len(sales_and_crm_customers))\n",
    "sales_and_crm_customers.isnull().sum()"
   ]
  },
  {
   "cell_type": "code",
   "execution_count": 25,
   "id": "56e90c3f",
   "metadata": {},
   "outputs": [
    {
     "data": {
      "text/plain": [
       "False    26147\n",
       "True      7114\n",
       "Name: in_crm_data, dtype: int64"
      ]
     },
     "execution_count": 25,
     "metadata": {},
     "output_type": "execute_result"
    }
   ],
   "source": [
    "# now we have duplicate customer detail columns, so merge them into the old ones\n",
    "merged_customers_filter = (\n",
    "    (sales_and_crm_customers[\"customer_id\"].notnull()) # only for actual customers\n",
    "    # only if they have at least first or surname filled in\n",
    "    # meaning we've found a match in our CRM data\n",
    "    & ((sales_and_crm_customers[\"first_name_crm\"].notnull())\n",
    "       | (sales_and_crm_customers[\"surname_crm\"].notnull()))\n",
    ")\n",
    "\n",
    "sales_and_crm_customers.loc[merged_customers_filter, \"in_crm_data\"] = True\n",
    "sales_and_crm_customers.loc[~merged_customers_filter, \"in_crm_data\"] = False\n",
    "\n",
    "sales_and_crm_customers[\"in_crm_data\"].value_counts()"
   ]
  },
  {
   "cell_type": "markdown",
   "id": "3c12acbe",
   "metadata": {},
   "source": [
    "Now merge data into single versions of customer information"
   ]
  },
  {
   "cell_type": "code",
   "execution_count": 26,
   "id": "7545e609",
   "metadata": {},
   "outputs": [
    {
     "name": "stdout",
     "output_type": "stream",
     "text": [
      "customer_id          8300\n",
      "first_name          17847\n",
      "surname             17847\n",
      "postcode            17847\n",
      "is_guest                0\n",
      "in_purchase_data        0\n",
      "age                 26147\n",
      "in_crm_data             0\n",
      "dtype: int64\n"
     ]
    },
    {
     "data": {
      "text/html": [
       "<div>\n",
       "<style scoped>\n",
       "    .dataframe tbody tr th:only-of-type {\n",
       "        vertical-align: middle;\n",
       "    }\n",
       "\n",
       "    .dataframe tbody tr th {\n",
       "        vertical-align: top;\n",
       "    }\n",
       "\n",
       "    .dataframe thead th {\n",
       "        text-align: right;\n",
       "    }\n",
       "</style>\n",
       "<table border=\"1\" class=\"dataframe\">\n",
       "  <thead>\n",
       "    <tr style=\"text-align: right;\">\n",
       "      <th></th>\n",
       "      <th>customer_id</th>\n",
       "      <th>first_name</th>\n",
       "      <th>surname</th>\n",
       "      <th>postcode</th>\n",
       "      <th>is_guest</th>\n",
       "      <th>in_purchase_data</th>\n",
       "      <th>age</th>\n",
       "      <th>in_crm_data</th>\n",
       "    </tr>\n",
       "  </thead>\n",
       "  <tbody>\n",
       "    <tr>\n",
       "      <th>0</th>\n",
       "      <td>7466.0</td>\n",
       "      <td>NaN</td>\n",
       "      <td>NaN</td>\n",
       "      <td>NaN</td>\n",
       "      <td>False</td>\n",
       "      <td>True</td>\n",
       "      <td>NaN</td>\n",
       "      <td>False</td>\n",
       "    </tr>\n",
       "    <tr>\n",
       "      <th>1</th>\n",
       "      <td>31266.0</td>\n",
       "      <td>harley</td>\n",
       "      <td>palmer</td>\n",
       "      <td>HR250EJ</td>\n",
       "      <td>False</td>\n",
       "      <td>True</td>\n",
       "      <td>33.0</td>\n",
       "      <td>True</td>\n",
       "    </tr>\n",
       "    <tr>\n",
       "      <th>2</th>\n",
       "      <td>534142828.0</td>\n",
       "      <td>NaN</td>\n",
       "      <td>NaN</td>\n",
       "      <td>NaN</td>\n",
       "      <td>False</td>\n",
       "      <td>True</td>\n",
       "      <td>NaN</td>\n",
       "      <td>False</td>\n",
       "    </tr>\n",
       "    <tr>\n",
       "      <th>3</th>\n",
       "      <td>1035.0</td>\n",
       "      <td>NaN</td>\n",
       "      <td>NaN</td>\n",
       "      <td>NaN</td>\n",
       "      <td>False</td>\n",
       "      <td>True</td>\n",
       "      <td>NaN</td>\n",
       "      <td>False</td>\n",
       "    </tr>\n",
       "    <tr>\n",
       "      <th>4</th>\n",
       "      <td>6985.0</td>\n",
       "      <td>NaN</td>\n",
       "      <td>NaN</td>\n",
       "      <td>NaN</td>\n",
       "      <td>False</td>\n",
       "      <td>True</td>\n",
       "      <td>NaN</td>\n",
       "      <td>False</td>\n",
       "    </tr>\n",
       "  </tbody>\n",
       "</table>\n",
       "</div>"
      ],
      "text/plain": [
       "   customer_id first_name surname postcode  is_guest  in_purchase_data   age  \\\n",
       "0       7466.0        NaN     NaN      NaN     False              True   NaN   \n",
       "1      31266.0     harley  palmer  HR250EJ     False              True  33.0   \n",
       "2  534142828.0        NaN     NaN      NaN     False              True   NaN   \n",
       "3       1035.0        NaN     NaN      NaN     False              True   NaN   \n",
       "4       6985.0        NaN     NaN      NaN     False              True   NaN   \n",
       "\n",
       "  in_crm_data  \n",
       "0       False  \n",
       "1        True  \n",
       "2       False  \n",
       "3       False  \n",
       "4       False  "
      ]
     },
     "execution_count": 26,
     "metadata": {},
     "output_type": "execute_result"
    }
   ],
   "source": [
    "sales_and_crm_customers.loc[merged_customers_filter, [\"first_name_sales\", \"surname_sales\", \"postcode_sales\"]] = (\n",
    "    sales_and_crm_customers.loc[merged_customers_filter, [\"first_name_crm\", \"surname_crm\", \"postcode_crm\"]]\n",
    "    .values\n",
    ")\n",
    "\n",
    "# drop duplicate columns and rename\n",
    "sales_and_crm_customers = (\n",
    "    sales_and_crm_customers\n",
    "    .drop(columns=[\"first_name_crm\", \"surname_crm\", \"postcode_crm\"])\n",
    "    .rename(columns={\n",
    "        \"first_name_sales\": \"first_name\",\n",
    "        \"surname_sales\": \"surname\",\n",
    "        \"postcode_sales\": \"postcode\"\n",
    "    })\n",
    ")\n",
    "\n",
    "print(sales_and_crm_customers.isnull().sum())\n",
    "sales_and_crm_customers.head()"
   ]
  },
  {
   "cell_type": "markdown",
   "id": "8d620f3f",
   "metadata": {},
   "source": [
    "Now, we will add CRM customers not in our purchase history"
   ]
  },
  {
   "cell_type": "code",
   "execution_count": 27,
   "id": "90114f8b",
   "metadata": {},
   "outputs": [
    {
     "name": "stdout",
     "output_type": "stream",
     "text": [
      "711\n"
     ]
    }
   ],
   "source": [
    "crm_ids_to_add = list(set(crm[\"customer_id\"].unique()) - set(sales_and_crm_customers[\"customer_id\"].unique()))\n",
    "print(len(crm_ids_to_add))"
   ]
  },
  {
   "cell_type": "code",
   "execution_count": 28,
   "id": "750e35c2",
   "metadata": {},
   "outputs": [
    {
     "name": "stdout",
     "output_type": "stream",
     "text": [
      "33261\n",
      "33972\n"
     ]
    }
   ],
   "source": [
    "print(len(sales_and_crm_customers))\n",
    "\n",
    "sales_and_crm_customers = (\n",
    "    pd.concat([sales_and_crm_customers, crm[crm[\"customer_id\"].isin(crm_ids_to_add)]],\n",
    "              axis=0,\n",
    "             ignore_index=True)\n",
    ")\n",
    "\n",
    "print(len(sales_and_crm_customers))"
   ]
  },
  {
   "cell_type": "code",
   "execution_count": 29,
   "id": "d0673b5e",
   "metadata": {},
   "outputs": [
    {
     "data": {
      "text/plain": [
       "customer_id          8300\n",
       "first_name          17847\n",
       "surname             17847\n",
       "postcode            17847\n",
       "is_guest              711\n",
       "in_purchase_data      711\n",
       "age                 26147\n",
       "in_crm_data           711\n",
       "dtype: int64"
      ]
     },
     "execution_count": 29,
     "metadata": {},
     "output_type": "execute_result"
    }
   ],
   "source": [
    "sales_and_crm_customers.isnull().sum()"
   ]
  },
  {
   "cell_type": "markdown",
   "id": "7f509d4c",
   "metadata": {},
   "source": [
    "Updating missing record sources accordingly"
   ]
  },
  {
   "cell_type": "code",
   "execution_count": 30,
   "id": "8374217d",
   "metadata": {},
   "outputs": [
    {
     "data": {
      "text/plain": [
       "customer_id          8300\n",
       "first_name          17847\n",
       "surname             17847\n",
       "postcode            17847\n",
       "is_guest                0\n",
       "in_purchase_data        0\n",
       "age                 26147\n",
       "in_crm_data             0\n",
       "dtype: int64"
      ]
     },
     "execution_count": 30,
     "metadata": {},
     "output_type": "execute_result"
    }
   ],
   "source": [
    "sales_and_crm_customers[\"is_guest\"] = sales_and_crm_customers[\"is_guest\"].fillna(False)\n",
    "sales_and_crm_customers[\"in_purchase_data\"] = sales_and_crm_customers[\"in_purchase_data\"].fillna(False)\n",
    "sales_and_crm_customers[\"in_crm_data\"] = sales_and_crm_customers[\"in_crm_data\"].fillna(True)\n",
    "\n",
    "sales_and_crm_customers.isnull().sum()"
   ]
  },
  {
   "cell_type": "code",
   "execution_count": 31,
   "id": "e4d1547c",
   "metadata": {},
   "outputs": [
    {
     "data": {
      "text/plain": [
       "False    26147\n",
       "True      7825\n",
       "Name: in_crm_data, dtype: int64"
      ]
     },
     "execution_count": 31,
     "metadata": {},
     "output_type": "execute_result"
    }
   ],
   "source": [
    "sales_and_crm_customers[\"in_crm_data\"].value_counts()"
   ]
  },
  {
   "cell_type": "code",
   "execution_count": 32,
   "id": "d039731f",
   "metadata": {},
   "outputs": [
    {
     "name": "stdout",
     "output_type": "stream",
     "text": [
      "33972\n"
     ]
    },
    {
     "data": {
      "text/html": [
       "<div>\n",
       "<style scoped>\n",
       "    .dataframe tbody tr th:only-of-type {\n",
       "        vertical-align: middle;\n",
       "    }\n",
       "\n",
       "    .dataframe tbody tr th {\n",
       "        vertical-align: top;\n",
       "    }\n",
       "\n",
       "    .dataframe thead th {\n",
       "        text-align: right;\n",
       "    }\n",
       "</style>\n",
       "<table border=\"1\" class=\"dataframe\">\n",
       "  <thead>\n",
       "    <tr style=\"text-align: right;\">\n",
       "      <th></th>\n",
       "      <th>customer_id</th>\n",
       "      <th>first_name</th>\n",
       "      <th>surname</th>\n",
       "      <th>postcode</th>\n",
       "      <th>is_guest</th>\n",
       "      <th>in_purchase_data</th>\n",
       "      <th>age</th>\n",
       "      <th>in_crm_data</th>\n",
       "    </tr>\n",
       "  </thead>\n",
       "  <tbody>\n",
       "    <tr>\n",
       "      <th>0</th>\n",
       "      <td>7466.0</td>\n",
       "      <td>NaN</td>\n",
       "      <td>NaN</td>\n",
       "      <td>NaN</td>\n",
       "      <td>False</td>\n",
       "      <td>True</td>\n",
       "      <td>NaN</td>\n",
       "      <td>False</td>\n",
       "    </tr>\n",
       "    <tr>\n",
       "      <th>1</th>\n",
       "      <td>31266.0</td>\n",
       "      <td>harley</td>\n",
       "      <td>palmer</td>\n",
       "      <td>HR250EJ</td>\n",
       "      <td>False</td>\n",
       "      <td>True</td>\n",
       "      <td>33.0</td>\n",
       "      <td>True</td>\n",
       "    </tr>\n",
       "    <tr>\n",
       "      <th>2</th>\n",
       "      <td>534142828.0</td>\n",
       "      <td>NaN</td>\n",
       "      <td>NaN</td>\n",
       "      <td>NaN</td>\n",
       "      <td>False</td>\n",
       "      <td>True</td>\n",
       "      <td>NaN</td>\n",
       "      <td>False</td>\n",
       "    </tr>\n",
       "    <tr>\n",
       "      <th>3</th>\n",
       "      <td>1035.0</td>\n",
       "      <td>NaN</td>\n",
       "      <td>NaN</td>\n",
       "      <td>NaN</td>\n",
       "      <td>False</td>\n",
       "      <td>True</td>\n",
       "      <td>NaN</td>\n",
       "      <td>False</td>\n",
       "    </tr>\n",
       "    <tr>\n",
       "      <th>4</th>\n",
       "      <td>6985.0</td>\n",
       "      <td>NaN</td>\n",
       "      <td>NaN</td>\n",
       "      <td>NaN</td>\n",
       "      <td>False</td>\n",
       "      <td>True</td>\n",
       "      <td>NaN</td>\n",
       "      <td>False</td>\n",
       "    </tr>\n",
       "  </tbody>\n",
       "</table>\n",
       "</div>"
      ],
      "text/plain": [
       "   customer_id first_name surname postcode  is_guest  in_purchase_data   age  \\\n",
       "0       7466.0        NaN     NaN      NaN     False              True   NaN   \n",
       "1      31266.0     harley  palmer  HR250EJ     False              True  33.0   \n",
       "2  534142828.0        NaN     NaN      NaN     False              True   NaN   \n",
       "3       1035.0        NaN     NaN      NaN     False              True   NaN   \n",
       "4       6985.0        NaN     NaN      NaN     False              True   NaN   \n",
       "\n",
       "   in_crm_data  \n",
       "0        False  \n",
       "1         True  \n",
       "2        False  \n",
       "3        False  \n",
       "4        False  "
      ]
     },
     "execution_count": 32,
     "metadata": {},
     "output_type": "execute_result"
    }
   ],
   "source": [
    "print(len(sales_and_crm_customers))\n",
    "sales_and_crm_customers.head()"
   ]
  },
  {
   "cell_type": "markdown",
   "id": "3847b9b5",
   "metadata": {},
   "source": [
    "There is now one row per customer from BOTH the CRM data and purchase history"
   ]
  },
  {
   "cell_type": "markdown",
   "id": "58c8b0f0",
   "metadata": {},
   "source": [
    "## Customers"
   ]
  },
  {
   "cell_type": "code",
   "execution_count": 33,
   "id": "35a1f041",
   "metadata": {},
   "outputs": [
    {
     "name": "stdout",
     "output_type": "stream",
     "text": [
      "(23476, 5)\n"
     ]
    },
    {
     "data": {
      "text/html": [
       "<div>\n",
       "<style scoped>\n",
       "    .dataframe tbody tr th:only-of-type {\n",
       "        vertical-align: middle;\n",
       "    }\n",
       "\n",
       "    .dataframe tbody tr th {\n",
       "        vertical-align: top;\n",
       "    }\n",
       "\n",
       "    .dataframe thead th {\n",
       "        text-align: right;\n",
       "    }\n",
       "</style>\n",
       "<table border=\"1\" class=\"dataframe\">\n",
       "  <thead>\n",
       "    <tr style=\"text-align: right;\">\n",
       "      <th></th>\n",
       "      <th>customer_id</th>\n",
       "      <th>first_name</th>\n",
       "      <th>surname</th>\n",
       "      <th>postcode</th>\n",
       "      <th>age</th>\n",
       "    </tr>\n",
       "  </thead>\n",
       "  <tbody>\n",
       "    <tr>\n",
       "      <th>0</th>\n",
       "      <td>1641</td>\n",
       "      <td>Rhys</td>\n",
       "      <td>Richards</td>\n",
       "      <td>DE456EZ</td>\n",
       "      <td>45</td>\n",
       "    </tr>\n",
       "    <tr>\n",
       "      <th>1</th>\n",
       "      <td>24796</td>\n",
       "      <td>Maisie</td>\n",
       "      <td>Young</td>\n",
       "      <td>SW433XX</td>\n",
       "      <td>16</td>\n",
       "    </tr>\n",
       "    <tr>\n",
       "      <th>2</th>\n",
       "      <td>14358</td>\n",
       "      <td>Nathan</td>\n",
       "      <td>King</td>\n",
       "      <td>NW49TU</td>\n",
       "      <td>58</td>\n",
       "    </tr>\n",
       "    <tr>\n",
       "      <th>3</th>\n",
       "      <td>15306</td>\n",
       "      <td>Jack</td>\n",
       "      <td>Moore</td>\n",
       "      <td>NW908RR</td>\n",
       "      <td>26</td>\n",
       "    </tr>\n",
       "    <tr>\n",
       "      <th>4</th>\n",
       "      <td>24971</td>\n",
       "      <td>Alexander</td>\n",
       "      <td>Roberts</td>\n",
       "      <td>SW500HW</td>\n",
       "      <td>85</td>\n",
       "    </tr>\n",
       "  </tbody>\n",
       "</table>\n",
       "</div>"
      ],
      "text/plain": [
       "   customer_id first_name   surname postcode  age\n",
       "0         1641       Rhys  Richards  DE456EZ   45\n",
       "1        24796     Maisie     Young  SW433XX   16\n",
       "2        14358     Nathan      King   NW49TU   58\n",
       "3        15306       Jack     Moore  NW908RR   26\n",
       "4        24971  Alexander   Roberts  SW500HW   85"
      ]
     },
     "execution_count": 33,
     "metadata": {},
     "output_type": "execute_result"
    }
   ],
   "source": [
    "customers = pd.read_csv(\"../data/customer_database.csv\")\n",
    "print(customers.shape)\n",
    "customers.head()"
   ]
  },
  {
   "cell_type": "code",
   "execution_count": 34,
   "id": "c9678239",
   "metadata": {},
   "outputs": [
    {
     "data": {
      "text/plain": [
       "customer_id    0\n",
       "first_name     0\n",
       "surname        0\n",
       "postcode       0\n",
       "age            0\n",
       "dtype: int64"
      ]
     },
     "execution_count": 34,
     "metadata": {},
     "output_type": "execute_result"
    }
   ],
   "source": [
    "customers.isnull().sum()"
   ]
  },
  {
   "cell_type": "code",
   "execution_count": 35,
   "id": "6af634a4",
   "metadata": {},
   "outputs": [],
   "source": [
    "for col in [\"first_name\", \"surname\"]:\n",
    "    customers[col] = customers[col].str.lower().str.strip()\n",
    "\n",
    "customers[\"postcode\"] = customers[\"postcode\"].str.strip()"
   ]
  },
  {
   "cell_type": "code",
   "execution_count": 36,
   "id": "e4ee9a58",
   "metadata": {},
   "outputs": [
    {
     "data": {
      "text/plain": [
       "Series([], dtype: int64)"
      ]
     },
     "execution_count": 36,
     "metadata": {},
     "output_type": "execute_result"
    }
   ],
   "source": [
    "customers.groupby(\"customer_id\").size().loc[lambda x: x>1]"
   ]
  },
  {
   "cell_type": "code",
   "execution_count": 37,
   "id": "b764494f",
   "metadata": {},
   "outputs": [
    {
     "name": "stdout",
     "output_type": "stream",
     "text": [
      "23476 rows\n",
      "19889 unique combinations of customers\n"
     ]
    }
   ],
   "source": [
    "print(\"{} rows\".format(len(customers)))\n",
    "unique_customers = customers.drop(columns=\"customer_id\").drop_duplicates()\n",
    "print(\"{} unique combinations of customers\".format(len(unique_customers)))"
   ]
  },
  {
   "cell_type": "markdown",
   "id": "9a59d7fe",
   "metadata": {},
   "source": [
    "Joining this data to our merged customer data"
   ]
  },
  {
   "cell_type": "code",
   "execution_count": 38,
   "id": "aadb3a0c",
   "metadata": {},
   "outputs": [
    {
     "name": "stdout",
     "output_type": "stream",
     "text": [
      "33972\n",
      "33972\n"
     ]
    },
    {
     "data": {
      "text/html": [
       "<div>\n",
       "<style scoped>\n",
       "    .dataframe tbody tr th:only-of-type {\n",
       "        vertical-align: middle;\n",
       "    }\n",
       "\n",
       "    .dataframe tbody tr th {\n",
       "        vertical-align: top;\n",
       "    }\n",
       "\n",
       "    .dataframe thead th {\n",
       "        text-align: right;\n",
       "    }\n",
       "</style>\n",
       "<table border=\"1\" class=\"dataframe\">\n",
       "  <thead>\n",
       "    <tr style=\"text-align: right;\">\n",
       "      <th></th>\n",
       "      <th>customer_id</th>\n",
       "      <th>first_name_sales</th>\n",
       "      <th>surname_sales</th>\n",
       "      <th>postcode_sales</th>\n",
       "      <th>is_guest</th>\n",
       "      <th>in_purchase_data</th>\n",
       "      <th>age_sales</th>\n",
       "      <th>in_crm_data</th>\n",
       "      <th>first_name_customers</th>\n",
       "      <th>surname_customers</th>\n",
       "      <th>postcode_customers</th>\n",
       "      <th>age_customers</th>\n",
       "    </tr>\n",
       "  </thead>\n",
       "  <tbody>\n",
       "    <tr>\n",
       "      <th>0</th>\n",
       "      <td>7466.0</td>\n",
       "      <td>NaN</td>\n",
       "      <td>NaN</td>\n",
       "      <td>NaN</td>\n",
       "      <td>False</td>\n",
       "      <td>True</td>\n",
       "      <td>NaN</td>\n",
       "      <td>False</td>\n",
       "      <td>eve</td>\n",
       "      <td>richards</td>\n",
       "      <td>HR90PT</td>\n",
       "      <td>45.0</td>\n",
       "    </tr>\n",
       "    <tr>\n",
       "      <th>1</th>\n",
       "      <td>31266.0</td>\n",
       "      <td>harley</td>\n",
       "      <td>palmer</td>\n",
       "      <td>HR250EJ</td>\n",
       "      <td>False</td>\n",
       "      <td>True</td>\n",
       "      <td>33.0</td>\n",
       "      <td>True</td>\n",
       "      <td>NaN</td>\n",
       "      <td>NaN</td>\n",
       "      <td>NaN</td>\n",
       "      <td>NaN</td>\n",
       "    </tr>\n",
       "    <tr>\n",
       "      <th>2</th>\n",
       "      <td>534142828.0</td>\n",
       "      <td>NaN</td>\n",
       "      <td>NaN</td>\n",
       "      <td>NaN</td>\n",
       "      <td>False</td>\n",
       "      <td>True</td>\n",
       "      <td>NaN</td>\n",
       "      <td>False</td>\n",
       "      <td>NaN</td>\n",
       "      <td>NaN</td>\n",
       "      <td>NaN</td>\n",
       "      <td>NaN</td>\n",
       "    </tr>\n",
       "    <tr>\n",
       "      <th>3</th>\n",
       "      <td>1035.0</td>\n",
       "      <td>NaN</td>\n",
       "      <td>NaN</td>\n",
       "      <td>NaN</td>\n",
       "      <td>False</td>\n",
       "      <td>True</td>\n",
       "      <td>NaN</td>\n",
       "      <td>False</td>\n",
       "      <td>luca</td>\n",
       "      <td>gibson</td>\n",
       "      <td>DE256NH</td>\n",
       "      <td>30.0</td>\n",
       "    </tr>\n",
       "    <tr>\n",
       "      <th>4</th>\n",
       "      <td>6985.0</td>\n",
       "      <td>NaN</td>\n",
       "      <td>NaN</td>\n",
       "      <td>NaN</td>\n",
       "      <td>False</td>\n",
       "      <td>True</td>\n",
       "      <td>NaN</td>\n",
       "      <td>False</td>\n",
       "      <td>mia</td>\n",
       "      <td>rogers</td>\n",
       "      <td>HR662RP</td>\n",
       "      <td>43.0</td>\n",
       "    </tr>\n",
       "  </tbody>\n",
       "</table>\n",
       "</div>"
      ],
      "text/plain": [
       "   customer_id first_name_sales surname_sales postcode_sales  is_guest  \\\n",
       "0       7466.0              NaN           NaN            NaN     False   \n",
       "1      31266.0           harley        palmer        HR250EJ     False   \n",
       "2  534142828.0              NaN           NaN            NaN     False   \n",
       "3       1035.0              NaN           NaN            NaN     False   \n",
       "4       6985.0              NaN           NaN            NaN     False   \n",
       "\n",
       "   in_purchase_data  age_sales  in_crm_data first_name_customers  \\\n",
       "0              True        NaN        False                  eve   \n",
       "1              True       33.0         True                  NaN   \n",
       "2              True        NaN        False                  NaN   \n",
       "3              True        NaN        False                 luca   \n",
       "4              True        NaN        False                  mia   \n",
       "\n",
       "  surname_customers postcode_customers  age_customers  \n",
       "0          richards             HR90PT           45.0  \n",
       "1               NaN                NaN            NaN  \n",
       "2               NaN                NaN            NaN  \n",
       "3            gibson            DE256NH           30.0  \n",
       "4            rogers            HR662RP           43.0  "
      ]
     },
     "execution_count": 38,
     "metadata": {},
     "output_type": "execute_result"
    }
   ],
   "source": [
    "print(len(sales_and_crm_customers))\n",
    "\n",
    "all_customers = sales_and_crm_customers.merge(customers, on=\"customer_id\", how=\"left\", suffixes=(\"_sales\", \"_customers\"))\n",
    "print(len(all_customers))\n",
    "all_customers.head()"
   ]
  },
  {
   "cell_type": "code",
   "execution_count": 39,
   "id": "df1bad73",
   "metadata": {},
   "outputs": [
    {
     "data": {
      "text/plain": [
       "True     22053\n",
       "False    11919\n",
       "Name: in_customer_data, dtype: int64"
      ]
     },
     "execution_count": 39,
     "metadata": {},
     "output_type": "execute_result"
    }
   ],
   "source": [
    "# now we have duplicate customer detail columns, so merge them into the old ones\n",
    "merged_customers_filter = (\n",
    "    (all_customers[\"customer_id\"].notnull()) # only for actual customers\n",
    "    # only if they have at least first or surname filled in\n",
    "    & ((all_customers[\"first_name_customers\"].notnull())\n",
    "       | (all_customers[\"surname_customers\"].notnull()))\n",
    ")\n",
    "\n",
    "all_customers.loc[merged_customers_filter, \"in_customer_data\"] = True\n",
    "all_customers.loc[~merged_customers_filter, \"in_customer_data\"] = False\n",
    "\n",
    "all_customers[\"in_customer_data\"].value_counts()"
   ]
  },
  {
   "cell_type": "code",
   "execution_count": 40,
   "id": "c6e38b8d",
   "metadata": {},
   "outputs": [
    {
     "data": {
      "text/plain": [
       "customer_id              8300\n",
       "first_name_sales        17847\n",
       "surname_sales           17847\n",
       "postcode_sales          17847\n",
       "is_guest                    0\n",
       "in_purchase_data            0\n",
       "age_sales               26147\n",
       "in_crm_data                 0\n",
       "first_name_customers    11919\n",
       "surname_customers       11919\n",
       "postcode_customers      11919\n",
       "age_customers           11919\n",
       "in_customer_data            0\n",
       "dtype: int64"
      ]
     },
     "execution_count": 40,
     "metadata": {},
     "output_type": "execute_result"
    }
   ],
   "source": [
    "all_customers.isnull().sum()"
   ]
  },
  {
   "cell_type": "markdown",
   "id": "bee1c0ff",
   "metadata": {},
   "source": [
    "If customers are newly added, fill in customer info:"
   ]
  },
  {
   "cell_type": "code",
   "execution_count": 41,
   "id": "d6cf7e98",
   "metadata": {},
   "outputs": [
    {
     "name": "stdout",
     "output_type": "stream",
     "text": [
      "33972\n",
      "33972\n"
     ]
    },
    {
     "data": {
      "text/plain": [
       "customer_id         8300\n",
       "first_name          1248\n",
       "surname             1248\n",
       "postcode            1248\n",
       "is_guest               0\n",
       "in_purchase_data       0\n",
       "age                 9548\n",
       "in_crm_data            0\n",
       "in_customer_data       0\n",
       "dtype: int64"
      ]
     },
     "execution_count": 41,
     "metadata": {},
     "output_type": "execute_result"
    }
   ],
   "source": [
    "update_filter = (\n",
    "    (all_customers[\"in_customer_data\"])\n",
    "    & (all_customers[\"first_name_sales\"].isnull())\n",
    "    & (all_customers[\"surname_sales\"].isnull())\n",
    ")\n",
    "\n",
    "print(len(all_customers))\n",
    "\n",
    "all_customers.loc[update_filter, [\"first_name_sales\", \"surname_sales\", \"postcode_sales\", \"age_sales\"]] = (\n",
    "    all_customers.loc[update_filter, [\"first_name_customers\", \"surname_customers\", \"postcode_customers\", \"age_customers\"]].values\n",
    ")\n",
    "\n",
    "all_customers = (\n",
    "    all_customers\n",
    "    .drop(columns=[\"first_name_customers\", \"surname_customers\", \"age_customers\", \"postcode_customers\"])\n",
    "    .rename(columns={\n",
    "        \"first_name_sales\": \"first_name\",\n",
    "        \"surname_sales\": \"surname\",\n",
    "        \"age_sales\": \"age\",\n",
    "        \"postcode_sales\": \"postcode\"\n",
    "    })\n",
    ")\n",
    "\n",
    "print(len(all_customers))\n",
    "all_customers.isnull().sum()"
   ]
  },
  {
   "cell_type": "markdown",
   "id": "4da97a6f",
   "metadata": {},
   "source": [
    "Add customers from customer DB but not in main data"
   ]
  },
  {
   "cell_type": "code",
   "execution_count": 42,
   "id": "bd85ca9e",
   "metadata": {},
   "outputs": [
    {
     "name": "stdout",
     "output_type": "stream",
     "text": [
      "1423\n"
     ]
    }
   ],
   "source": [
    "customer_ids_to_add = list(set(customers[\"customer_id\"].unique()) - set(all_customers[\"customer_id\"].unique()))\n",
    "print(len(customer_ids_to_add))"
   ]
  },
  {
   "cell_type": "code",
   "execution_count": 43,
   "id": "a0758374",
   "metadata": {},
   "outputs": [
    {
     "name": "stdout",
     "output_type": "stream",
     "text": [
      "33972\n",
      "35395\n"
     ]
    }
   ],
   "source": [
    "print(len(all_customers))\n",
    "\n",
    "all_customers = (\n",
    "    pd.concat([all_customers, customers[customers[\"customer_id\"].isin(customer_ids_to_add)]],\n",
    "              axis=0,\n",
    "              ignore_index=True)\n",
    ")\n",
    "\n",
    "print(len(all_customers))"
   ]
  },
  {
   "cell_type": "code",
   "execution_count": 44,
   "id": "5b136b18",
   "metadata": {},
   "outputs": [
    {
     "data": {
      "text/plain": [
       "customer_id         8300\n",
       "first_name          1248\n",
       "surname             1248\n",
       "postcode            1248\n",
       "is_guest            1423\n",
       "in_purchase_data    1423\n",
       "age                 9548\n",
       "in_crm_data         1423\n",
       "in_customer_data    1423\n",
       "dtype: int64"
      ]
     },
     "execution_count": 44,
     "metadata": {},
     "output_type": "execute_result"
    }
   ],
   "source": [
    "all_customers.isnull().sum()"
   ]
  },
  {
   "cell_type": "markdown",
   "id": "27ca2ced",
   "metadata": {},
   "source": [
    "At this point if we have missing data for whether someone was a guest, it means they weren't (since we can only mark guests using the purchase data and we've already done that)"
   ]
  },
  {
   "cell_type": "code",
   "execution_count": 45,
   "id": "b5ed40a6",
   "metadata": {},
   "outputs": [
    {
     "data": {
      "text/plain": [
       "customer_id         8300\n",
       "first_name          1248\n",
       "surname             1248\n",
       "postcode            1248\n",
       "is_guest               0\n",
       "in_purchase_data       0\n",
       "age                 9548\n",
       "in_crm_data            0\n",
       "in_customer_data       0\n",
       "dtype: int64"
      ]
     },
     "execution_count": 45,
     "metadata": {},
     "output_type": "execute_result"
    }
   ],
   "source": [
    "all_customers[\"is_guest\"] = all_customers[\"is_guest\"].fillna(False)\n",
    "all_customers[\"in_purchase_data\"] = all_customers[\"in_purchase_data\"].fillna(False)\n",
    "all_customers[\"in_crm_data\"] = all_customers[\"in_crm_data\"].fillna(False)\n",
    "all_customers[\"in_customer_data\"] = all_customers[\"in_customer_data\"].fillna(True)\n",
    "\n",
    "all_customers.isnull().sum()"
   ]
  },
  {
   "cell_type": "code",
   "execution_count": 46,
   "id": "382a5d7a",
   "metadata": {},
   "outputs": [
    {
     "data": {
      "text/html": [
       "<div>\n",
       "<style scoped>\n",
       "    .dataframe tbody tr th:only-of-type {\n",
       "        vertical-align: middle;\n",
       "    }\n",
       "\n",
       "    .dataframe tbody tr th {\n",
       "        vertical-align: top;\n",
       "    }\n",
       "\n",
       "    .dataframe thead th {\n",
       "        text-align: right;\n",
       "    }\n",
       "</style>\n",
       "<table border=\"1\" class=\"dataframe\">\n",
       "  <thead>\n",
       "    <tr style=\"text-align: right;\">\n",
       "      <th></th>\n",
       "      <th>customer_id</th>\n",
       "      <th>first_name</th>\n",
       "      <th>surname</th>\n",
       "      <th>postcode</th>\n",
       "      <th>is_guest</th>\n",
       "      <th>in_purchase_data</th>\n",
       "      <th>age</th>\n",
       "      <th>in_crm_data</th>\n",
       "      <th>in_customer_data</th>\n",
       "    </tr>\n",
       "  </thead>\n",
       "  <tbody>\n",
       "    <tr>\n",
       "      <th>0</th>\n",
       "      <td>7466.0</td>\n",
       "      <td>eve</td>\n",
       "      <td>richards</td>\n",
       "      <td>HR90PT</td>\n",
       "      <td>False</td>\n",
       "      <td>True</td>\n",
       "      <td>45.0</td>\n",
       "      <td>False</td>\n",
       "      <td>True</td>\n",
       "    </tr>\n",
       "    <tr>\n",
       "      <th>1</th>\n",
       "      <td>31266.0</td>\n",
       "      <td>harley</td>\n",
       "      <td>palmer</td>\n",
       "      <td>HR250EJ</td>\n",
       "      <td>False</td>\n",
       "      <td>True</td>\n",
       "      <td>33.0</td>\n",
       "      <td>True</td>\n",
       "      <td>False</td>\n",
       "    </tr>\n",
       "    <tr>\n",
       "      <th>2</th>\n",
       "      <td>534142828.0</td>\n",
       "      <td>NaN</td>\n",
       "      <td>NaN</td>\n",
       "      <td>NaN</td>\n",
       "      <td>False</td>\n",
       "      <td>True</td>\n",
       "      <td>NaN</td>\n",
       "      <td>False</td>\n",
       "      <td>False</td>\n",
       "    </tr>\n",
       "    <tr>\n",
       "      <th>3</th>\n",
       "      <td>1035.0</td>\n",
       "      <td>luca</td>\n",
       "      <td>gibson</td>\n",
       "      <td>DE256NH</td>\n",
       "      <td>False</td>\n",
       "      <td>True</td>\n",
       "      <td>30.0</td>\n",
       "      <td>False</td>\n",
       "      <td>True</td>\n",
       "    </tr>\n",
       "    <tr>\n",
       "      <th>4</th>\n",
       "      <td>6985.0</td>\n",
       "      <td>mia</td>\n",
       "      <td>rogers</td>\n",
       "      <td>HR662RP</td>\n",
       "      <td>False</td>\n",
       "      <td>True</td>\n",
       "      <td>43.0</td>\n",
       "      <td>False</td>\n",
       "      <td>True</td>\n",
       "    </tr>\n",
       "  </tbody>\n",
       "</table>\n",
       "</div>"
      ],
      "text/plain": [
       "   customer_id first_name   surname postcode  is_guest  in_purchase_data  \\\n",
       "0       7466.0        eve  richards   HR90PT     False              True   \n",
       "1      31266.0     harley    palmer  HR250EJ     False              True   \n",
       "2  534142828.0        NaN       NaN      NaN     False              True   \n",
       "3       1035.0       luca    gibson  DE256NH     False              True   \n",
       "4       6985.0        mia    rogers  HR662RP     False              True   \n",
       "\n",
       "    age  in_crm_data  in_customer_data  \n",
       "0  45.0        False              True  \n",
       "1  33.0         True             False  \n",
       "2   NaN        False             False  \n",
       "3  30.0        False              True  \n",
       "4  43.0        False              True  "
      ]
     },
     "execution_count": 46,
     "metadata": {},
     "output_type": "execute_result"
    }
   ],
   "source": [
    "all_customers.head()"
   ]
  },
  {
   "cell_type": "code",
   "execution_count": 47,
   "id": "48511d44",
   "metadata": {},
   "outputs": [
    {
     "data": {
      "text/plain": [
       "35395"
      ]
     },
     "execution_count": 47,
     "metadata": {},
     "output_type": "execute_result"
    }
   ],
   "source": [
    "len(all_customers)"
   ]
  },
  {
   "cell_type": "markdown",
   "id": "9dab7a10",
   "metadata": {},
   "source": [
    "## Deduplicate"
   ]
  },
  {
   "cell_type": "markdown",
   "id": "08f5bc8e",
   "metadata": {},
   "source": [
    "Let's first remove exact duplicates."
   ]
  },
  {
   "cell_type": "code",
   "execution_count": 49,
   "id": "fdaf3140",
   "metadata": {},
   "outputs": [
    {
     "name": "stdout",
     "output_type": "stream",
     "text": [
      "35395\n",
      "35395\n"
     ]
    }
   ],
   "source": [
    "print(len(all_customers))\n",
    "all_customers = all_customers.drop_duplicates()\n",
    "print(len(all_customers))"
   ]
  },
  {
   "cell_type": "markdown",
   "id": "28f697f1",
   "metadata": {},
   "source": [
    "Let's count up all the following cases:\n",
    "\n",
    "- those purchased with a customer ID (whether or not that ID is in another database)\n",
    "- those purchased as guests\n",
    "- those in the CRM database who haven't made a purchase\n",
    "- those in the customer database who haven't made a purchase\n"
   ]
  },
  {
   "cell_type": "code",
   "execution_count": 50,
   "id": "d802bad0",
   "metadata": {},
   "outputs": [
    {
     "name": "stdout",
     "output_type": "stream",
     "text": [
      "35395 23713\n",
      "8300 1248 2134\n"
     ]
    }
   ],
   "source": [
    "identified_customers = (\n",
    "    all_customers[(all_customers[\"customer_id\"].notnull())\n",
    "                  & (all_customers[\"in_purchase_data\"])\n",
    "                  & ((all_customers[\"in_crm_data\"])\n",
    "                     | (all_customers[\"in_customer_data\"]))]\n",
    ")\n",
    "\n",
    "guests = all_customers[all_customers[\"is_guest\"]]\n",
    "\n",
    "customer_ids_not_found = (\n",
    "    all_customers[(all_customers[\"customer_id\"].notnull())\n",
    "                  & (all_customers[\"first_name\"].isnull())\n",
    "                  & (all_customers[\"surname\"].isnull())]\n",
    ")\n",
    "\n",
    "customer_data_only = (\n",
    "    all_customers[((all_customers[\"in_crm_data\"])\n",
    "                   | (all_customers[\"in_customer_data\"])\n",
    "                  )\n",
    "                  & (all_customers[\"in_purchase_data\"] == False)]\n",
    ")\n",
    "\n",
    "print(len(all_customers), len(identified_customers))\n",
    "print(len(guests), len(customer_ids_not_found), len(customer_data_only))"
   ]
  },
  {
   "cell_type": "code",
   "execution_count": 51,
   "id": "9d9e6373",
   "metadata": {},
   "outputs": [
    {
     "name": "stdout",
     "output_type": "stream",
     "text": [
      "Size of customer database (not yet deduplicated): 35395\n",
      "Identified customers (with an ID, present in a lookup DB): 23713\n",
      "Guest checkouts: 8300\n",
      "Unidentified customer IDs in purchases: 1248\n",
      "Customers with no purchases present in CRM or customer data: 2134\n"
     ]
    }
   ],
   "source": [
    "print(f\"Size of customer database (not yet deduplicated): {len(all_customers)}\")\n",
    "print(f\"Identified customers (with an ID, present in a lookup DB): {len(identified_customers)}\")\n",
    "print(f\"Guest checkouts: {len(guests)}\")\n",
    "print(f\"Unidentified customer IDs in purchases: {len(customer_ids_not_found)}\")\n",
    "print(f\"Customers with no purchases present in CRM or customer data: {len(customer_data_only)}\")"
   ]
  },
  {
   "cell_type": "code",
   "execution_count": 52,
   "id": "dd6d7f31",
   "metadata": {},
   "outputs": [],
   "source": [
    "assert len(all_customers) == len(identified_customers) + len(guests) + len(customer_ids_not_found) + len(customer_data_only)\n"
   ]
  },
  {
   "cell_type": "code",
   "execution_count": null,
   "id": "f93fa58b",
   "metadata": {},
   "outputs": [],
   "source": []
  }
 ],
 "metadata": {
  "kernelspec": {
   "display_name": "Python 3 (ipykernel)",
   "language": "python",
   "name": "python3"
  },
  "language_info": {
   "codemirror_mode": {
    "name": "ipython",
    "version": 3
   },
   "file_extension": ".py",
   "mimetype": "text/x-python",
   "name": "python",
   "nbconvert_exporter": "python",
   "pygments_lexer": "ipython3",
   "version": "3.9.12"
  }
 },
 "nbformat": 4,
 "nbformat_minor": 5
}
