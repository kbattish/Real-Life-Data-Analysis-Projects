{
 "cells": [
  {
   "cell_type": "markdown",
   "id": "08a67e1a",
   "metadata": {},
   "source": [
    "# Customer Geography Analysis"
   ]
  },
  {
   "cell_type": "markdown",
   "id": "1b6cf5a1",
   "metadata": {},
   "source": [
    "# Problem Statement\n",
    "\n",
    "We have been asked to dive into the data to understand where our customers are coming from and how they are spending across the United Kingdom. The goal is to help our team gain a clear picture of the customer landscape so we can make more informed decisions about where to focus our efforts.\n",
    "\n",
    "The dataset we are working with includes:\n",
    "- Each customer address\n",
    "- Their total spending to date\n",
    "\n",
    "From this, we are going to explore two main questions:\n",
    "1. **Which cities might be underserved?** In other words, are there areas with lower spending that could represent opportunities for growth?\n",
    "2. **Is our customer base primarily London-centric, or do we have strong engagement across other regions?** Knowing this will help us decide if we are reaching the audience we want, or if there are areas where we could expand our reach.\n",
    "\n",
    "In this analysis, I will break down the data to uncover patterns in spending and geographical distribution, ultimately helping us better understand where our customers are and how we can support their needs more effectively.\n"
   ]
  },
  {
   "cell_type": "markdown",
   "id": "f06608be",
   "metadata": {},
   "source": [
    "# Goals\n",
    "\n",
    "We have to calculate customer spend by city, and use this data to compare London with the rest of the UK. Here's what we need to do in our analysis:\n",
    "\n",
    "- Explore the customer address data\n",
    "- Come up with a method to extract the city from the address field\n",
    "- Calculate total spend per city\n",
    "- Analyze results to understand the spending of London customers vs. those outside London\n"
   ]
  },
  {
   "cell_type": "markdown",
   "id": "e0519b6a",
   "metadata": {},
   "source": [
    "**Our final output should be a dataset with one row for each city, including the total customer spend for that city**"
   ]
  },
  {
   "cell_type": "code",
   "execution_count": 1,
   "id": "4d41d7a3",
   "metadata": {},
   "outputs": [
    {
     "name": "stdout",
     "output_type": "stream",
     "text": [
      "   company_id                                            address  total_spend\n",
      "0           1  APARTMENT 2,\\n52 BEDFORD ROAD,\\nLONDON,\\nENGLA...         5700\n",
      "1           2           107 SHERINGHAM AVENUE,\\nLONDON,\\nN14 4UJ         4700\n",
      "2           3  43 SUNNINGDALE,\\nYATE,\\nBRISTOL,\\nENGLAND,\\nBS...         5900\n",
      "3           4  HAWESWATER HOUSE,\\nLINGLEY MERE BUSINESS PARK,...         7200\n",
      "4           5  AMBERFIELD BARN HOUSE AMBER LANE,\\nCHART SUTTO...         4600\n",
      "5           6  FIRST FLOOR CEF BUILDING,\\nBROOMHILL WAY,\\nTOR...         4600\n",
      "6           7  37 BEVERLEY ROAD,\\nDRIFFIELD,\\nENGLAND,\\nYO25 6RZ         7300\n",
      "7           8  B82 ALBION RIVERSIDE BUILDING,\\n8 HESTER ROAD,...         6100\n",
      "8           9  Flat 27, Domelton House,\\nIron Mill Road,\\nLon...         4200\n",
      "9          10  34 BROOKSIDE ESTATE,\\nCHALGROVE,\\nOXFORD,\\nUNI...         5800\n"
     ]
    }
   ],
   "source": [
    "import pandas as pd\n",
    "customers = pd.read_csv(\"../data/addresses.csv\")\n",
    "print(customers.head(10))"
   ]
  },
  {
   "cell_type": "code",
   "execution_count": 2,
   "id": "3465124a",
   "metadata": {},
   "outputs": [
    {
     "name": "stdout",
     "output_type": "stream",
     "text": [
      "(100000, 3)\n"
     ]
    }
   ],
   "source": [
    "print(customers.shape)"
   ]
  },
  {
   "cell_type": "markdown",
   "id": "3afbe7e0",
   "metadata": {},
   "source": [
    "## Checking our Data"
   ]
  },
  {
   "cell_type": "markdown",
   "id": "8a084f91",
   "metadata": {},
   "source": [
    "Lets check our data for missing values."
   ]
  },
  {
   "cell_type": "code",
   "execution_count": 3,
   "id": "eeabbbc0",
   "metadata": {},
   "outputs": [
    {
     "data": {
      "text/plain": [
       "company_id       0\n",
       "address        968\n",
       "total_spend      0\n",
       "dtype: int64"
      ]
     },
     "execution_count": 3,
     "metadata": {},
     "output_type": "execute_result"
    }
   ],
   "source": [
    "customers.isnull().sum()"
   ]
  },
  {
   "cell_type": "markdown",
   "id": "6d271f26",
   "metadata": {},
   "source": [
    "We have 968 missing addresses and if possible we could ask the stakeholders to check if we might have these addresses elsewhere. But if we can't get these addresses, then we can drop these rows. We can also categorize these missing addresses as 'Other' but since we have a small number of missing addresses, we can go ahead and drop it."
   ]
  },
  {
   "cell_type": "code",
   "execution_count": 4,
   "id": "2e865471",
   "metadata": {},
   "outputs": [],
   "source": [
    "customers.dropna(subset=[\"address\"], inplace=True)"
   ]
  },
  {
   "cell_type": "markdown",
   "id": "a74a15fe",
   "metadata": {},
   "source": [
    "Lets check the total_spend column for negative values"
   ]
  },
  {
   "cell_type": "code",
   "execution_count": 5,
   "id": "d929cb9c",
   "metadata": {},
   "outputs": [
    {
     "data": {
      "text/plain": [
       "count    99032.000000\n",
       "mean      4951.673197\n",
       "std       1500.642398\n",
       "min          0.000000\n",
       "25%       3900.000000\n",
       "50%       5000.000000\n",
       "75%       6000.000000\n",
       "max      11700.000000\n",
       "Name: total_spend, dtype: float64"
      ]
     },
     "execution_count": 5,
     "metadata": {},
     "output_type": "execute_result"
    }
   ],
   "source": [
    "customers['total_spend'].describe()"
   ]
  },
  {
   "cell_type": "markdown",
   "id": "1a49d11b",
   "metadata": {},
   "source": [
    "No strange data. That's great!"
   ]
  },
  {
   "cell_type": "markdown",
   "id": "c79d7b7c",
   "metadata": {},
   "source": [
    "## Extracting Cities from Address Column"
   ]
  },
  {
   "cell_type": "code",
   "execution_count": 6,
   "id": "9d024e92",
   "metadata": {},
   "outputs": [],
   "source": [
    "# print(customers['address'].head())"
   ]
  },
  {
   "cell_type": "code",
   "execution_count": 7,
   "id": "8e378670",
   "metadata": {},
   "outputs": [
    {
     "name": "stdout",
     "output_type": "stream",
     "text": [
      "APARTMENT 2,\n",
      "52 BEDFORD ROAD,\n",
      "LONDON,\n",
      "ENGLAND,\n",
      "SW4 7HJ \n",
      "\n",
      "107 SHERINGHAM AVENUE,\n",
      "LONDON,\n",
      "N14 4UJ \n",
      "\n",
      "43 SUNNINGDALE,\n",
      "YATE,\n",
      "BRISTOL,\n",
      "ENGLAND,\n",
      "BS37 4HZ \n",
      "\n",
      "HAWESWATER HOUSE,\n",
      "LINGLEY MERE BUSINESS PARK,\n",
      "LINGLEY GREEN AVENUE,\n",
      "GREAT SANKEY, WARRINGTON,\n",
      "WA5 3LP \n",
      "\n",
      "AMBERFIELD BARN HOUSE AMBER LANE,\n",
      "CHART SUTTON,\n",
      "MAIDSTONE,\n",
      "ENGLAND,\n",
      "ME17 3SF \n",
      "\n"
     ]
    }
   ],
   "source": [
    "for address in customers[\"address\"].head():\n",
    " print(address, \"\\n\")"
   ]
  },
  {
   "cell_type": "code",
   "execution_count": 8,
   "id": "4a7eed09",
   "metadata": {},
   "outputs": [],
   "source": [
    "customers['address_clean'] = customers['address'].str.upper() # To make addresses case consistent"
   ]
  },
  {
   "cell_type": "code",
   "execution_count": 9,
   "id": "9bf0366f",
   "metadata": {},
   "outputs": [
    {
     "data": {
      "text/plain": [
       "20831"
      ]
     },
     "execution_count": 9,
     "metadata": {},
     "output_type": "execute_result"
    }
   ],
   "source": [
    "# Check how many addresses contain 'LONDON,'\n",
    "len(customers[customers['address_clean'].str.contains('LONDON,')])"
   ]
  },
  {
   "cell_type": "code",
   "execution_count": 10,
   "id": "ad809d3b",
   "metadata": {},
   "outputs": [],
   "source": [
    "# Lets check how many lines are there in different addresses\n",
    "customers['address_lines'] = (\n",
    "customers['address_clean'].str.split('\\n').apply(len) # Split addresses by new line and create a list of lines, then calculate the length of each list to get the number of lines in an address\n",
    ")"
   ]
  },
  {
   "cell_type": "code",
   "execution_count": 11,
   "id": "32874481",
   "metadata": {},
   "outputs": [
    {
     "data": {
      "text/plain": [
       "1        6\n",
       "2       52\n",
       "3     3284\n",
       "4    35850\n",
       "5    45931\n",
       "6    13909\n",
       "Name: address_lines, dtype: int64"
      ]
     },
     "execution_count": 11,
     "metadata": {},
     "output_type": "execute_result"
    }
   ],
   "source": [
    "customers['address_lines'].value_counts().sort_index()"
   ]
  },
  {
   "cell_type": "code",
   "execution_count": 12,
   "id": "45d0125c",
   "metadata": {},
   "outputs": [
    {
     "name": "stdout",
     "output_type": "stream",
     "text": [
      "17789                      FALKIRK\n",
      "31897                   HADDINGTON\n",
      "61750          CREAG BHAITHEACHAIN\n",
      "75330                     NEWMILNS\n",
      "78045    REDCLOAK FARM, STONEHAVEN\n",
      "90897     REFER TO PARENT REGISTRY\n",
      "Name: address_clean, dtype: object\n"
     ]
    }
   ],
   "source": [
    "print(customers.loc[customers[\"address_lines\"] == 1, \"address_clean\"])"
   ]
  },
  {
   "cell_type": "code",
   "execution_count": 13,
   "id": "117ab139",
   "metadata": {},
   "outputs": [
    {
     "name": "stdout",
     "output_type": "stream",
     "text": [
      "39443                                    FORFAR,\\nANGUS\n",
      "80846                        12 HOPE STREET,\\nEDINBURGH\n",
      "95979    BRANCH REGISTRATION,\\nREFER TO PARENT REGISTRY\n",
      "23563    BRANCH REGISTRATION,\\nREFER TO PARENT REGISTRY\n",
      "81155                             PO BOX 2230,\\nGLASGOW\n",
      "Name: address_clean, dtype: object\n"
     ]
    }
   ],
   "source": [
    "print((\n",
    "    customers[customers[\"address_lines\"] == 2]\n",
    "    .sample(5, random_state=42)\n",
    "    [\"address_clean\"])\n",
    ")"
   ]
  },
  {
   "cell_type": "markdown",
   "id": "43b4a540",
   "metadata": {},
   "source": [
    "Now we have several options for proceeding with our analysis:\n",
    "\n",
    "- **Apply a rule based on address length:** For example, in a 5-line address, assume the city is in the 4th line; for a 6-line address, use the 5th line, and so on. This approach may be error-prone due to the variability in address formats.\n",
    "- **Use a predefined list of cities:** Look up each address against a list of city names to determine if it matches a specific city.\n",
    "- **Extract the postcode from each address:** Identify the postcode within each address and cross-reference it with a national database (which we would need to obtain and confirm for permitted use).\n"
   ]
  },
  {
   "cell_type": "markdown",
   "id": "72491d27",
   "metadata": {},
   "source": [
    "We are going to copy and paste the list of cities from a website into an Excel file and import it here."
   ]
  },
  {
   "cell_type": "code",
   "execution_count": 14,
   "id": "4a0858e4",
   "metadata": {},
   "outputs": [
    {
     "data": {
      "text/html": [
       "<div>\n",
       "<style scoped>\n",
       "    .dataframe tbody tr th:only-of-type {\n",
       "        vertical-align: middle;\n",
       "    }\n",
       "\n",
       "    .dataframe tbody tr th {\n",
       "        vertical-align: top;\n",
       "    }\n",
       "\n",
       "    .dataframe thead th {\n",
       "        text-align: right;\n",
       "    }\n",
       "</style>\n",
       "<table border=\"1\" class=\"dataframe\">\n",
       "  <thead>\n",
       "    <tr style=\"text-align: right;\">\n",
       "      <th></th>\n",
       "      <th>city</th>\n",
       "    </tr>\n",
       "  </thead>\n",
       "  <tbody>\n",
       "    <tr>\n",
       "      <th>0</th>\n",
       "      <td>England</td>\n",
       "    </tr>\n",
       "    <tr>\n",
       "      <th>1</th>\n",
       "      <td>Bath</td>\n",
       "    </tr>\n",
       "    <tr>\n",
       "      <th>2</th>\n",
       "      <td>Birmingham*</td>\n",
       "    </tr>\n",
       "    <tr>\n",
       "      <th>3</th>\n",
       "      <td>Bradford*</td>\n",
       "    </tr>\n",
       "    <tr>\n",
       "      <th>4</th>\n",
       "      <td>Brighton &amp; Hove</td>\n",
       "    </tr>\n",
       "  </tbody>\n",
       "</table>\n",
       "</div>"
      ],
      "text/plain": [
       "              city\n",
       "0          England\n",
       "1             Bath\n",
       "2      Birmingham*\n",
       "3        Bradford*\n",
       "4  Brighton & Hove"
      ]
     },
     "execution_count": 14,
     "metadata": {},
     "output_type": "execute_result"
    }
   ],
   "source": [
    "cities = pd.read_csv(\"../data/cities.csv\", header=None, names=[\"city\"])\n",
    "cities.head()"
   ]
  },
  {
   "cell_type": "code",
   "execution_count": 15,
   "id": "0b550fe1",
   "metadata": {},
   "outputs": [
    {
     "name": "stdout",
     "output_type": "stream",
     "text": [
      "80\n",
      "76\n"
     ]
    }
   ],
   "source": [
    "# Cleaning Up\n",
    "countries_to_remove = [\"England\", \"Scotland\", \"Wales\", \"Northern Ireland\"]\n",
    "\n",
    "print(len(cities))\n",
    "cities_to_remove = cities[cities[\"city\"].isin(countries_to_remove)].index\n",
    "cities = cities.drop(index=cities_to_remove)\n",
    "print(len(cities))"
   ]
  },
  {
   "cell_type": "code",
   "execution_count": 16,
   "id": "951ae943",
   "metadata": {},
   "outputs": [
    {
     "data": {
      "text/html": [
       "<div>\n",
       "<style scoped>\n",
       "    .dataframe tbody tr th:only-of-type {\n",
       "        vertical-align: middle;\n",
       "    }\n",
       "\n",
       "    .dataframe tbody tr th {\n",
       "        vertical-align: top;\n",
       "    }\n",
       "\n",
       "    .dataframe thead th {\n",
       "        text-align: right;\n",
       "    }\n",
       "</style>\n",
       "<table border=\"1\" class=\"dataframe\">\n",
       "  <thead>\n",
       "    <tr style=\"text-align: right;\">\n",
       "      <th></th>\n",
       "      <th>city</th>\n",
       "    </tr>\n",
       "  </thead>\n",
       "  <tbody>\n",
       "    <tr>\n",
       "      <th>1</th>\n",
       "      <td>BATH</td>\n",
       "    </tr>\n",
       "    <tr>\n",
       "      <th>2</th>\n",
       "      <td>BIRMINGHAM</td>\n",
       "    </tr>\n",
       "    <tr>\n",
       "      <th>3</th>\n",
       "      <td>BRADFORD</td>\n",
       "    </tr>\n",
       "    <tr>\n",
       "      <th>4</th>\n",
       "      <td>BRIGHTON &amp; HOVE</td>\n",
       "    </tr>\n",
       "    <tr>\n",
       "      <th>5</th>\n",
       "      <td>BRISTOL</td>\n",
       "    </tr>\n",
       "  </tbody>\n",
       "</table>\n",
       "</div>"
      ],
      "text/plain": [
       "              city\n",
       "1             BATH\n",
       "2       BIRMINGHAM\n",
       "3         BRADFORD\n",
       "4  BRIGHTON & HOVE\n",
       "5          BRISTOL"
      ]
     },
     "execution_count": 16,
     "metadata": {},
     "output_type": "execute_result"
    }
   ],
   "source": [
    "# Remove asterisks and uppercase\n",
    "cities[\"city\"] = cities[\"city\"].str.replace(\"*\", \"\", regex=False)\n",
    "cities[\"city\"] = cities[\"city\"].str.upper()\n",
    "\n",
    "cities.head()"
   ]
  },
  {
   "cell_type": "code",
   "execution_count": 17,
   "id": "f4adecc6",
   "metadata": {},
   "outputs": [],
   "source": [
    "# Create a city column if address contains a City from our list of cities\n",
    "for city in cities[\"city\"].values:\n",
    "    customers.loc[customers[\"address_clean\"].str.contains(f\"\\n{city},\"), \"city\"] = city"
   ]
  },
  {
   "cell_type": "code",
   "execution_count": 18,
   "id": "04d334a5",
   "metadata": {},
   "outputs": [
    {
     "data": {
      "text/html": [
       "<div>\n",
       "<style scoped>\n",
       "    .dataframe tbody tr th:only-of-type {\n",
       "        vertical-align: middle;\n",
       "    }\n",
       "\n",
       "    .dataframe tbody tr th {\n",
       "        vertical-align: top;\n",
       "    }\n",
       "\n",
       "    .dataframe thead th {\n",
       "        text-align: right;\n",
       "    }\n",
       "</style>\n",
       "<table border=\"1\" class=\"dataframe\">\n",
       "  <thead>\n",
       "    <tr style=\"text-align: right;\">\n",
       "      <th></th>\n",
       "      <th>company_id</th>\n",
       "      <th>address</th>\n",
       "      <th>total_spend</th>\n",
       "      <th>address_clean</th>\n",
       "      <th>address_lines</th>\n",
       "      <th>city</th>\n",
       "    </tr>\n",
       "  </thead>\n",
       "  <tbody>\n",
       "    <tr>\n",
       "      <th>0</th>\n",
       "      <td>1</td>\n",
       "      <td>APARTMENT 2,\\n52 BEDFORD ROAD,\\nLONDON,\\nENGLA...</td>\n",
       "      <td>5700</td>\n",
       "      <td>APARTMENT 2,\\n52 BEDFORD ROAD,\\nLONDON,\\nENGLA...</td>\n",
       "      <td>5</td>\n",
       "      <td>LONDON</td>\n",
       "    </tr>\n",
       "    <tr>\n",
       "      <th>1</th>\n",
       "      <td>2</td>\n",
       "      <td>107 SHERINGHAM AVENUE,\\nLONDON,\\nN14 4UJ</td>\n",
       "      <td>4700</td>\n",
       "      <td>107 SHERINGHAM AVENUE,\\nLONDON,\\nN14 4UJ</td>\n",
       "      <td>3</td>\n",
       "      <td>LONDON</td>\n",
       "    </tr>\n",
       "    <tr>\n",
       "      <th>2</th>\n",
       "      <td>3</td>\n",
       "      <td>43 SUNNINGDALE,\\nYATE,\\nBRISTOL,\\nENGLAND,\\nBS...</td>\n",
       "      <td>5900</td>\n",
       "      <td>43 SUNNINGDALE,\\nYATE,\\nBRISTOL,\\nENGLAND,\\nBS...</td>\n",
       "      <td>5</td>\n",
       "      <td>BRISTOL</td>\n",
       "    </tr>\n",
       "    <tr>\n",
       "      <th>3</th>\n",
       "      <td>4</td>\n",
       "      <td>HAWESWATER HOUSE,\\nLINGLEY MERE BUSINESS PARK,...</td>\n",
       "      <td>7200</td>\n",
       "      <td>HAWESWATER HOUSE,\\nLINGLEY MERE BUSINESS PARK,...</td>\n",
       "      <td>5</td>\n",
       "      <td>OTHER</td>\n",
       "    </tr>\n",
       "    <tr>\n",
       "      <th>4</th>\n",
       "      <td>5</td>\n",
       "      <td>AMBERFIELD BARN HOUSE AMBER LANE,\\nCHART SUTTO...</td>\n",
       "      <td>4600</td>\n",
       "      <td>AMBERFIELD BARN HOUSE AMBER LANE,\\nCHART SUTTO...</td>\n",
       "      <td>5</td>\n",
       "      <td>OTHER</td>\n",
       "    </tr>\n",
       "  </tbody>\n",
       "</table>\n",
       "</div>"
      ],
      "text/plain": [
       "   company_id                                            address  total_spend  \\\n",
       "0           1  APARTMENT 2,\\n52 BEDFORD ROAD,\\nLONDON,\\nENGLA...         5700   \n",
       "1           2           107 SHERINGHAM AVENUE,\\nLONDON,\\nN14 4UJ         4700   \n",
       "2           3  43 SUNNINGDALE,\\nYATE,\\nBRISTOL,\\nENGLAND,\\nBS...         5900   \n",
       "3           4  HAWESWATER HOUSE,\\nLINGLEY MERE BUSINESS PARK,...         7200   \n",
       "4           5  AMBERFIELD BARN HOUSE AMBER LANE,\\nCHART SUTTO...         4600   \n",
       "\n",
       "                                       address_clean  address_lines     city  \n",
       "0  APARTMENT 2,\\n52 BEDFORD ROAD,\\nLONDON,\\nENGLA...              5   LONDON  \n",
       "1           107 SHERINGHAM AVENUE,\\nLONDON,\\nN14 4UJ              3   LONDON  \n",
       "2  43 SUNNINGDALE,\\nYATE,\\nBRISTOL,\\nENGLAND,\\nBS...              5  BRISTOL  \n",
       "3  HAWESWATER HOUSE,\\nLINGLEY MERE BUSINESS PARK,...              5    OTHER  \n",
       "4  AMBERFIELD BARN HOUSE AMBER LANE,\\nCHART SUTTO...              5    OTHER  "
      ]
     },
     "execution_count": 18,
     "metadata": {},
     "output_type": "execute_result"
    }
   ],
   "source": [
    "# Categorize NULL values as 'Other'\n",
    "customers[\"city\"].fillna(\"OTHER\", inplace=True)\n",
    "customers.head()"
   ]
  },
  {
   "cell_type": "code",
   "execution_count": 19,
   "id": "c0fd7639",
   "metadata": {},
   "outputs": [
    {
     "data": {
      "text/plain": [
       "OTHER            54458\n",
       "LONDON           20762\n",
       "MANCHESTER        1902\n",
       "BIRMINGHAM        1866\n",
       "GLASGOW           1273\n",
       "BRISTOL           1150\n",
       "LEEDS             1040\n",
       "EDINBURGH         1038\n",
       "LEICESTER          905\n",
       "NOTTINGHAM         838\n",
       "LIVERPOOL          838\n",
       "CARDIFF            797\n",
       "SHEFFIELD          706\n",
       "COVENTRY           553\n",
       "MILTON KEYNES      493\n",
       "SOUTHAMPTON        477\n",
       "NORWICH            449\n",
       "BRADFORD           417\n",
       "BELFAST            416\n",
       "PRESTON            406\n",
       "Name: city, dtype: int64"
      ]
     },
     "execution_count": 19,
     "metadata": {},
     "output_type": "execute_result"
    }
   ],
   "source": [
    "customers[\"city\"].value_counts().head(20)"
   ]
  },
  {
   "cell_type": "markdown",
   "id": "aa59a71a",
   "metadata": {},
   "source": [
    "An important thing to note is that more than 50% of our data is in the 'Other' category"
   ]
  },
  {
   "cell_type": "code",
   "execution_count": 20,
   "id": "08b3a3cf",
   "metadata": {},
   "outputs": [
    {
     "name": "stdout",
     "output_type": "stream",
     "text": [
      "82 CROSSE COURTS,\n",
      "BASILDON,\n",
      "ENGLAND,\n",
      "SS15 5JE \n",
      "\n",
      "70 NORMAN CRESCENT,\n",
      "PINNER,\n",
      "ENGLAND,\n",
      "HA5 3QL \n",
      "\n",
      "23 STATION ROAD,\n",
      "GERRARDS CROSS,\n",
      "BUCKINGHAMSHIRE,\n",
      "ENGLAND,\n",
      "SL9 8ES \n",
      "\n",
      "5 STEWARTS PARK AVENUE,\n",
      "MARTON,\n",
      "MIDDLESBROUGH,\n",
      "CLEVELAND,\n",
      "UNITED KINGDOM,\n",
      "TS4 3FD \n",
      "\n",
      "FIRST FLOOR,\n",
      "6 YORK STREET,\n",
      "TWICKENHAM,\n",
      "ENGLAND,\n",
      "TW1 3LD \n",
      "\n"
     ]
    }
   ],
   "source": [
    "sample_other = customers[customers[\"city\"] == \"OTHER\"].sample(5, random_state=42)\n",
    "for address in sample_other[\"address_clean\"].values:\n",
    "    print(address, \"\\n\")"
   ]
  },
  {
   "cell_type": "code",
   "execution_count": 21,
   "id": "cfad4460",
   "metadata": {},
   "outputs": [
    {
     "name": "stdout",
     "output_type": "stream",
     "text": [
      "75 cities in customer data\n",
      "76 cities in city list\n"
     ]
    }
   ],
   "source": [
    "# Comparing number of cities in customer data with the number of cities in our City list\n",
    "print(\"{0} cities in customer data\".format(customers[\"city\"].nunique()))\n",
    "print(\"{0} cities in city list\".format(len(cities)))"
   ]
  },
  {
   "cell_type": "code",
   "execution_count": 22,
   "id": "f98fb258",
   "metadata": {},
   "outputs": [
    {
     "data": {
      "text/plain": [
       "{'KINGSTON-UPON-HULL'}"
      ]
     },
     "execution_count": 22,
     "metadata": {},
     "output_type": "execute_result"
    }
   ],
   "source": [
    "# Checking for discrepancies above\n",
    "set(cities[\"city\"]) - set(customers[\"city\"])"
   ]
  },
  {
   "cell_type": "code",
   "execution_count": 23,
   "id": "da1aaf2b",
   "metadata": {},
   "outputs": [
    {
     "data": {
      "text/html": [
       "<div>\n",
       "<style scoped>\n",
       "    .dataframe tbody tr th:only-of-type {\n",
       "        vertical-align: middle;\n",
       "    }\n",
       "\n",
       "    .dataframe tbody tr th {\n",
       "        vertical-align: top;\n",
       "    }\n",
       "\n",
       "    .dataframe thead th {\n",
       "        text-align: right;\n",
       "    }\n",
       "</style>\n",
       "<table border=\"1\" class=\"dataframe\">\n",
       "  <thead>\n",
       "    <tr style=\"text-align: right;\">\n",
       "      <th></th>\n",
       "      <th>company_id</th>\n",
       "      <th>address</th>\n",
       "      <th>total_spend</th>\n",
       "      <th>address_clean</th>\n",
       "      <th>address_lines</th>\n",
       "      <th>city</th>\n",
       "    </tr>\n",
       "  </thead>\n",
       "  <tbody>\n",
       "    <tr>\n",
       "      <th>455</th>\n",
       "      <td>456</td>\n",
       "      <td>349 BEVERLEY ROAD,\\nANLABY,\\nHULL,\\nENGLAND,\\n...</td>\n",
       "      <td>3800</td>\n",
       "      <td>349 BEVERLEY ROAD,\\nANLABY,\\nHULL,\\nENGLAND,\\n...</td>\n",
       "      <td>5</td>\n",
       "      <td>OTHER</td>\n",
       "    </tr>\n",
       "    <tr>\n",
       "      <th>1139</th>\n",
       "      <td>1140</td>\n",
       "      <td>90 CALVERT LANE,\\nHULL,\\nENGLAND,\\nHU4 6BJ</td>\n",
       "      <td>6000</td>\n",
       "      <td>90 CALVERT LANE,\\nHULL,\\nENGLAND,\\nHU4 6BJ</td>\n",
       "      <td>4</td>\n",
       "      <td>OTHER</td>\n",
       "    </tr>\n",
       "    <tr>\n",
       "      <th>1822</th>\n",
       "      <td>1823</td>\n",
       "      <td>ACER GLADE BLACK TUP LANE,\\nARNOLD,\\nHULL,\\nEN...</td>\n",
       "      <td>4600</td>\n",
       "      <td>ACER GLADE BLACK TUP LANE,\\nARNOLD,\\nHULL,\\nEN...</td>\n",
       "      <td>5</td>\n",
       "      <td>OTHER</td>\n",
       "    </tr>\n",
       "    <tr>\n",
       "      <th>1831</th>\n",
       "      <td>1832</td>\n",
       "      <td>10 GORDON STREET,\\nHULL,\\nENGLAND,\\nHU3 3HN</td>\n",
       "      <td>5300</td>\n",
       "      <td>10 GORDON STREET,\\nHULL,\\nENGLAND,\\nHU3 3HN</td>\n",
       "      <td>4</td>\n",
       "      <td>OTHER</td>\n",
       "    </tr>\n",
       "    <tr>\n",
       "      <th>1921</th>\n",
       "      <td>1922</td>\n",
       "      <td>70 WRIGHT STREET,\\nHULL,\\nENGLAND,\\nHU2 8JD</td>\n",
       "      <td>6100</td>\n",
       "      <td>70 WRIGHT STREET,\\nHULL,\\nENGLAND,\\nHU2 8JD</td>\n",
       "      <td>4</td>\n",
       "      <td>OTHER</td>\n",
       "    </tr>\n",
       "    <tr>\n",
       "      <th>...</th>\n",
       "      <td>...</td>\n",
       "      <td>...</td>\n",
       "      <td>...</td>\n",
       "      <td>...</td>\n",
       "      <td>...</td>\n",
       "      <td>...</td>\n",
       "    </tr>\n",
       "    <tr>\n",
       "      <th>98479</th>\n",
       "      <td>98480</td>\n",
       "      <td>31-38 QUEEN STREET,\\nHULL,\\nENGLAND,\\nHU1 1UU</td>\n",
       "      <td>4500</td>\n",
       "      <td>31-38 QUEEN STREET,\\nHULL,\\nENGLAND,\\nHU1 1UU</td>\n",
       "      <td>4</td>\n",
       "      <td>OTHER</td>\n",
       "    </tr>\n",
       "    <tr>\n",
       "      <th>98886</th>\n",
       "      <td>98887</td>\n",
       "      <td>13 SALMON GROVE,\\nHULL,\\nEAST YORKSHIRE,\\nENGL...</td>\n",
       "      <td>5000</td>\n",
       "      <td>13 SALMON GROVE,\\nHULL,\\nEAST YORKSHIRE,\\nENGL...</td>\n",
       "      <td>5</td>\n",
       "      <td>OTHER</td>\n",
       "    </tr>\n",
       "    <tr>\n",
       "      <th>99196</th>\n",
       "      <td>99197</td>\n",
       "      <td>22 19TH AVENUE,\\nHULL,\\nENGLAND,\\nHU6 8HF</td>\n",
       "      <td>5900</td>\n",
       "      <td>22 19TH AVENUE,\\nHULL,\\nENGLAND,\\nHU6 8HF</td>\n",
       "      <td>4</td>\n",
       "      <td>OTHER</td>\n",
       "    </tr>\n",
       "    <tr>\n",
       "      <th>99434</th>\n",
       "      <td>99435</td>\n",
       "      <td>F14 THE BLOC SPRINGFIELD WAY,\\nANLABY,\\nHULL,\\...</td>\n",
       "      <td>3100</td>\n",
       "      <td>F14 THE BLOC SPRINGFIELD WAY,\\nANLABY,\\nHULL,\\...</td>\n",
       "      <td>6</td>\n",
       "      <td>OTHER</td>\n",
       "    </tr>\n",
       "    <tr>\n",
       "      <th>99659</th>\n",
       "      <td>99660</td>\n",
       "      <td>273 ANLABY ROAD,\\nHULL,\\nEAST RIDING OF YORKSH...</td>\n",
       "      <td>6400</td>\n",
       "      <td>273 ANLABY ROAD,\\nHULL,\\nEAST RIDING OF YORKSH...</td>\n",
       "      <td>5</td>\n",
       "      <td>OTHER</td>\n",
       "    </tr>\n",
       "  </tbody>\n",
       "</table>\n",
       "<p>284 rows × 6 columns</p>\n",
       "</div>"
      ],
      "text/plain": [
       "       company_id                                            address  \\\n",
       "455           456  349 BEVERLEY ROAD,\\nANLABY,\\nHULL,\\nENGLAND,\\n...   \n",
       "1139         1140         90 CALVERT LANE,\\nHULL,\\nENGLAND,\\nHU4 6BJ   \n",
       "1822         1823  ACER GLADE BLACK TUP LANE,\\nARNOLD,\\nHULL,\\nEN...   \n",
       "1831         1832        10 GORDON STREET,\\nHULL,\\nENGLAND,\\nHU3 3HN   \n",
       "1921         1922        70 WRIGHT STREET,\\nHULL,\\nENGLAND,\\nHU2 8JD   \n",
       "...           ...                                                ...   \n",
       "98479       98480      31-38 QUEEN STREET,\\nHULL,\\nENGLAND,\\nHU1 1UU   \n",
       "98886       98887  13 SALMON GROVE,\\nHULL,\\nEAST YORKSHIRE,\\nENGL...   \n",
       "99196       99197          22 19TH AVENUE,\\nHULL,\\nENGLAND,\\nHU6 8HF   \n",
       "99434       99435  F14 THE BLOC SPRINGFIELD WAY,\\nANLABY,\\nHULL,\\...   \n",
       "99659       99660  273 ANLABY ROAD,\\nHULL,\\nEAST RIDING OF YORKSH...   \n",
       "\n",
       "       total_spend                                      address_clean  \\\n",
       "455           3800  349 BEVERLEY ROAD,\\nANLABY,\\nHULL,\\nENGLAND,\\n...   \n",
       "1139          6000         90 CALVERT LANE,\\nHULL,\\nENGLAND,\\nHU4 6BJ   \n",
       "1822          4600  ACER GLADE BLACK TUP LANE,\\nARNOLD,\\nHULL,\\nEN...   \n",
       "1831          5300        10 GORDON STREET,\\nHULL,\\nENGLAND,\\nHU3 3HN   \n",
       "1921          6100        70 WRIGHT STREET,\\nHULL,\\nENGLAND,\\nHU2 8JD   \n",
       "...            ...                                                ...   \n",
       "98479         4500      31-38 QUEEN STREET,\\nHULL,\\nENGLAND,\\nHU1 1UU   \n",
       "98886         5000  13 SALMON GROVE,\\nHULL,\\nEAST YORKSHIRE,\\nENGL...   \n",
       "99196         5900          22 19TH AVENUE,\\nHULL,\\nENGLAND,\\nHU6 8HF   \n",
       "99434         3100  F14 THE BLOC SPRINGFIELD WAY,\\nANLABY,\\nHULL,\\...   \n",
       "99659         6400  273 ANLABY ROAD,\\nHULL,\\nEAST RIDING OF YORKSH...   \n",
       "\n",
       "       address_lines   city  \n",
       "455                5  OTHER  \n",
       "1139               4  OTHER  \n",
       "1822               5  OTHER  \n",
       "1831               4  OTHER  \n",
       "1921               4  OTHER  \n",
       "...              ...    ...  \n",
       "98479              4  OTHER  \n",
       "98886              5  OTHER  \n",
       "99196              4  OTHER  \n",
       "99434              6  OTHER  \n",
       "99659              5  OTHER  \n",
       "\n",
       "[284 rows x 6 columns]"
      ]
     },
     "execution_count": 23,
     "metadata": {},
     "output_type": "execute_result"
    }
   ],
   "source": [
    "customers[customers[\"address_clean\"].str.contains(\"\\nKINGSTON,\")]\n",
    "customers[customers[\"address_clean\"].str.contains(\"\\nHULL,\")]"
   ]
  },
  {
   "cell_type": "markdown",
   "id": "4be71ad3",
   "metadata": {},
   "source": [
    "Google Search shows that Kingston-Upon-Hill is also known as Hull. We can manually fix this in our code. We can also take a deeper dive into our data to similarly fix other cities categorized as 'Other' that can be corrected."
   ]
  },
  {
   "cell_type": "code",
   "execution_count": 24,
   "id": "d4708b3c",
   "metadata": {},
   "outputs": [],
   "source": [
    "customers.loc[customers[\"address_clean\"].str.contains(\"\\nHULL,\"), \"city\"] = \"HULL\"\n"
   ]
  },
  {
   "cell_type": "markdown",
   "id": "f861f423",
   "metadata": {},
   "source": [
    "## Answering the Problem Statement"
   ]
  },
  {
   "cell_type": "code",
   "execution_count": 25,
   "id": "396e7b76",
   "metadata": {},
   "outputs": [
    {
     "data": {
      "image/png": "[encoded data removed]",
      "text/plain": [
       "<Figure size 432x288 with 1 Axes>"
      ]
     },
     "metadata": {
      "needs_background": "light"
     },
     "output_type": "display_data"
    }
   ],
   "source": [
    "import matplotlib.pyplot as plt\n",
    "from matplotlib.ticker import FuncFormatter\n",
    "\n",
    "# Function to format numbers in millions\n",
    "def millions(x, pos):\n",
    "    return f'£{x * 1e-6:.1f}M'  # Convert to millions and format to one decimal place\n",
    "\n",
    "# Custom formatter to display values in millions\n",
    "formatter = FuncFormatter(millions)\n",
    "\n",
    "# Create a new figure and axis for the plot\n",
    "fig, axis = plt.subplots()\n",
    "\n",
    "# Calculate the top 20 cities by total customer spend\n",
    "top_20_spend = (\n",
    "    customers.groupby(\"city\")[\"total_spend\"].sum()\n",
    "    .nlargest(20)\n",
    "    .sort_values(ascending=True)\n",
    ")\n",
    "\n",
    "# Create a bar plot\n",
    "top_20_spend.plot.barh(ax=axis)\n",
    "\n",
    "# Apply the formatter to the x-axis and add labels\n",
    "axis.xaxis.set_major_formatter(formatter)\n",
    "axis.set(\n",
    "    title=\"Total Customer Spend by City\",\n",
    "    xlabel=\"Total Spend (£)\"\n",
    ")\n",
    "\n",
    "plt.show()"
   ]
  },
  {
   "cell_type": "markdown",
   "id": "6241afb4",
   "metadata": {},
   "source": [
    "Here we see that the 'Other' category makes up a large portion of the Customer Spend. We can maybe look inot this later and categorize some large towns as well using a similar process that we followed for cities to get a better look into this category. For now, I'm going to compare London against the rest of the country."
   ]
  },
  {
   "cell_type": "code",
   "execution_count": 26,
   "id": "13ef32f9",
   "metadata": {},
   "outputs": [
    {
     "name": "stdout",
     "output_type": "stream",
     "text": [
      "Total spend for all customers:\n",
      "490374100\n"
     ]
    }
   ],
   "source": [
    "print(\"Total spend for all customers:\")\n",
    "print(customers[\"total_spend\"].sum())"
   ]
  },
  {
   "cell_type": "code",
   "execution_count": 27,
   "id": "114429b4",
   "metadata": {},
   "outputs": [
    {
     "name": "stdout",
     "output_type": "stream",
     "text": [
      "Total spend for London customers:\n",
      "103042800\n"
     ]
    }
   ],
   "source": [
    "print(\"Total spend for London customers:\")\n",
    "print(customers.loc[customers[\"city\"] == \"LONDON\", \"total_spend\"].sum())"
   ]
  },
  {
   "cell_type": "code",
   "execution_count": 28,
   "id": "ccd9f884",
   "metadata": {},
   "outputs": [
    {
     "name": "stdout",
     "output_type": "stream",
     "text": [
      "Total spend outside London:\n",
      "387331300\n",
      "Total spend outside London (excluding OTHER):\n",
      "119468400\n"
     ]
    }
   ],
   "source": [
    "print(\"Total spend outside London:\")\n",
    "print(customers.loc[customers[\"city\"] != \"LONDON\", \"total_spend\"].sum())\n",
    "print(\"Total spend outside London (excluding OTHER):\")\n",
    "print(customers.loc[customers[\"city\"].isin([\"LONDON\", \"OTHER\"]) == False, \"total_spend\"].sum())\n"
   ]
  },
  {
   "cell_type": "markdown",
   "id": "0fd12992",
   "metadata": {},
   "source": [
    "## Conclusion\n",
    "\n",
    "- When comparing only large cities:\n",
    "  - **London** generated **£103 million** in sales.\n",
    "  - All other large cities combined generated **£119 million**.\n",
    "\n",
    "- Our customer base is clearly **London-centric**, with the most spending seen in **Manchester, Birmingham,** and **Glasgow** outside of London.\n",
    "\n",
    "- These cities are also the most populated outside London, but **spending patterns don’t neccessarily correlate with population size**.\n",
    "  - **Leeds** has a high population but lower spending, which suggests our customer spending doesn’t directly reflect distribution of population.\n"
   ]
  },
  {
   "cell_type": "code",
   "execution_count": null,
   "id": "953255ec",
   "metadata": {},
   "outputs": [],
   "source": []
  }
 ],
 "metadata": {
  "kernelspec": {
   "display_name": "Python 3 (ipykernel)",
   "language": "python",
   "name": "python3"
  },
  "language_info": {
   "codemirror_mode": {
    "name": "ipython",
    "version": 3
   },
   "file_extension": ".py",
   "mimetype": "text/x-python",
   "name": "python",
   "nbconvert_exporter": "python",
   "pygments_lexer": "ipython3",
   "version": "3.9.12"
  }
 },
 "nbformat": 4,
 "nbformat_minor": 5
}
